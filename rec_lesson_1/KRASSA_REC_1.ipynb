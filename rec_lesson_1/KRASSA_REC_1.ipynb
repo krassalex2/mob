{
  "cells": [
    {
      "cell_type": "markdown",
      "id": "425a10d7-caa9-4f84-abff-f528aeb4ab80",
      "metadata": {
        "id": "425a10d7-caa9-4f84-abff-f528aeb4ab80"
      },
      "source": [
        "# Домашнее задание №1\n",
        "\n",
        "На семинаре мы проходили метрики, необходимо реализовать некоторые из них"
      ]
    },
    {
      "cell_type": "code",
      "execution_count": 1,
      "id": "6f4acf2d-e8a0-469a-8463-6dc26521c554",
      "metadata": {
        "id": "6f4acf2d-e8a0-469a-8463-6dc26521c554"
      },
      "outputs": [],
      "source": [
        "import numpy as np\n",
        "import pandas as pd"
      ]
    },
    {
      "cell_type": "code",
      "source": [
        "recommended_list = [143, 156, 1134, 991, 27, 1543, 3345, 533, 11, 43] #id товаров\n",
        "bought_list = [521, 32, 143, 991]\n",
        "prices_recommended = [10, 20, 30, 10, 20, 30, 10, 20, 30, 10] #id товаров\n",
        "prices_bought = [20, 30, 20, 30]"
      ],
      "metadata": {
        "id": "1JDvOMuh9jmo"
      },
      "id": "1JDvOMuh9jmo",
      "execution_count": 9,
      "outputs": []
    },
    {
      "cell_type": "markdown",
      "id": "38a80a25-4ea6-49c9-a0f4-c7fc2a80dcc1",
      "metadata": {
        "id": "38a80a25-4ea6-49c9-a0f4-c7fc2a80dcc1"
      },
      "source": [
        "## Задание 1. Реализовать метрики Recall@k и  Money Recall@k\n",
        "\n",
        "*Recall* - доля рекомендованных товаров среди релевантных = Какой % купленных товаров был среди рекомендованных\n",
        "\n",
        "$$\\Large Recall@K(i) = \\frac {\\sum_{j=1}^{K}\\mathbb{1}_{r_{ij}}}{|Rel_i|}$$\n",
        "\n",
        "$\\Large |Rel_i|$ -- количество релевантных товаров для пользователя $i$\n",
        "\n",
        "$$\\Large MoneyRecall@K(i) = \\frac {\\sum_{j=1}^{K}\\mathbb{1}_{r_{ij}}\\cdot Price(j)}{\\sum_{s\\in Rel_i}Price(s)}$$\n"
      ]
    },
    {
      "cell_type": "code",
      "execution_count": 17,
      "id": "34a7db81-664c-4c9b-92c0-d565fa5487fc",
      "metadata": {
        "id": "34a7db81-664c-4c9b-92c0-d565fa5487fc"
      },
      "outputs": [],
      "source": [
        "def recall_at_k(recommended_list, bought_list, k=5):\n",
        "    \n",
        "    bought_list = np.array(bought_list)\n",
        "    recommended_list = np.array(recommended_list)\n",
        "    recommended_list = recommended_list[:k]\n",
        "    \n",
        "    flags = np.isin(recommended_list, bought_list)\n",
        "    \n",
        "    recall = flags.sum() / len(bought_list)\n",
        "    \n",
        "    return recall\n",
        "\n",
        "def money_recall_at_k(recommended_list, bought_list, prices_recommended, prices_bought, k=5):\n",
        "\n",
        "    bought_list = np.array(bought_list)\n",
        "    recommended_list = np.array(recommended_list)[:k]\n",
        "    prices_recommended = np.array(prices_recommended)[:k]\n",
        "    prices_bought = np.array(prices_bought)\n",
        "    \n",
        "    flags = np.isin(recommended_list, bought_list)\n",
        "    \n",
        "    recall = (flags*prices_recommended).sum() /prices_bought.sum()\n",
        "    \n",
        "    return recall"
      ]
    },
    {
      "cell_type": "code",
      "source": [
        "recall_at_k(recommended_list, bought_list, k=5)"
      ],
      "metadata": {
        "colab": {
          "base_uri": "https://localhost:8080/"
        },
        "id": "gnRyCAyR_xxv",
        "outputId": "7da615c1-795c-4cb1-e662-e176b75a0b7f"
      },
      "id": "gnRyCAyR_xxv",
      "execution_count": 18,
      "outputs": [
        {
          "output_type": "execute_result",
          "data": {
            "text/plain": [
              "0.5"
            ]
          },
          "metadata": {},
          "execution_count": 18
        }
      ]
    },
    {
      "cell_type": "code",
      "source": [
        "money_recall_at_k(recommended_list, bought_list, prices_recommended, prices_bought, k=5)"
      ],
      "metadata": {
        "colab": {
          "base_uri": "https://localhost:8080/"
        },
        "id": "Yntd1j0YAqD4",
        "outputId": "f286adb6-46ad-455f-cd20-238436cdf009"
      },
      "id": "Yntd1j0YAqD4",
      "execution_count": 19,
      "outputs": [
        {
          "output_type": "execute_result",
          "data": {
            "text/plain": [
              "0.2"
            ]
          },
          "metadata": {},
          "execution_count": 19
        }
      ]
    },
    {
      "cell_type": "markdown",
      "id": "b42d4d0d-6073-47b6-ad54-586a477405e5",
      "metadata": {
        "id": "b42d4d0d-6073-47b6-ad54-586a477405e5"
      },
      "source": [
        "## Задание 2. Реализовать метрику MRR@k\n",
        "\n",
        "Mean Reciprocal Rank\n",
        "\n",
        "- Считаем для первых k рекоммендаций\n",
        "- Найти ранк первого релевантного предсказания $\\Large rank_j$\n",
        "- Посчитать reciprocal rank = $\\Large\\frac{1}{rank_j}$\n",
        "\n",
        "$$\\Large  MMR(i)@k=\\frac {1}{\\min\\limits_{j\\in Rel(i)} rank_j}$$"
      ]
    },
    {
      "cell_type": "code",
      "execution_count": 20,
      "id": "9c8940da-3621-4a54-8236-810a42ed4b77",
      "metadata": {
        "id": "9c8940da-3621-4a54-8236-810a42ed4b77"
      },
      "outputs": [],
      "source": [
        "def mrr_at_k(recommended_list, bought_list, k=5):\n",
        "    bought_list = np.array(bought_list)\n",
        "    recommended_list = np.array(recommended_list)[:k]\n",
        "    \n",
        "    for index, item in enumerate(recommended_list):\n",
        "      if item == bought_list[index]:\n",
        "        return 1/(index + 1)\n",
        "            \n",
        "    return 0"
      ]
    },
    {
      "cell_type": "code",
      "source": [
        "mrr_at_k(recommended_list, bought_list, k=5)"
      ],
      "metadata": {
        "id": "Utqxuj94E2XM",
        "outputId": "54a20c32-0a3f-49f3-ed83-a6041c0c05d0",
        "colab": {
          "base_uri": "https://localhost:8080/"
        }
      },
      "id": "Utqxuj94E2XM",
      "execution_count": 21,
      "outputs": [
        {
          "output_type": "execute_result",
          "data": {
            "text/plain": [
              "0.25"
            ]
          },
          "metadata": {},
          "execution_count": 21
        }
      ]
    }
  ],
  "metadata": {
    "kernelspec": {
      "display_name": "Python 3 (ipykernel)",
      "language": "python",
      "name": "python3"
    },
    "language_info": {
      "codemirror_mode": {
        "name": "ipython",
        "version": 3
      },
      "file_extension": ".py",
      "mimetype": "text/x-python",
      "name": "python",
      "nbconvert_exporter": "python",
      "pygments_lexer": "ipython3",
      "version": "3.9.12"
    },
    "colab": {
      "provenance": []
    }
  },
  "nbformat": 4,
  "nbformat_minor": 5
}