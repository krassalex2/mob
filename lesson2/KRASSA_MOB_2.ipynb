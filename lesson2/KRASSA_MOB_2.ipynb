{
 "cells": [
  {
   "cell_type": "markdown",
   "metadata": {
    "id": "kfh0AZvV0Ued"
   },
   "source": [
    "1. *Самостоятельно повторить tfidf (документация https://scikit-learn.org/stable/modules/generated/sklearn.feature_extraction.text.TfidfVectorizer.html)"
   ]
  },
  {
   "cell_type": "code",
   "execution_count": 1,
   "metadata": {
    "id": "ajg1uezArO0K"
   },
   "outputs": [],
   "source": [
    "import pandas as pd"
   ]
  },
  {
   "cell_type": "markdown",
   "metadata": {
    "id": "uVX8vMZgv7Cp"
   },
   "source": [
    "Наши новости"
   ]
  },
  {
   "cell_type": "code",
   "execution_count": 2,
   "metadata": {
    "colab": {
     "base_uri": "https://localhost:8080/"
    },
    "id": "Q8nSfs4Fv7Ct",
    "outputId": "93dbd0fd-2dab-4393-fdbb-4fa0ea504325"
   },
   "outputs": [
    {
     "name": "stdout",
     "output_type": "stream",
     "text": [
      "--2023-04-19 20:58:08--  https://docs.google.com/uc?export=download&confirm=t&id=1zrdSHN2tq_Hj3YdbwlM3jk87Oct42XpR\n",
      "Распознаётся docs.google.com (docs.google.com)… 173.194.221.194, 2a00:1450:4010:c0a::c2\n",
      "Подключение к docs.google.com (docs.google.com)|173.194.221.194|:443... соединение установлено.\n",
      "HTTP-запрос отправлен. Ожидание ответа… 303 See Other\n",
      "Адрес: https://doc-0s-c0-docs.googleusercontent.com/docs/securesc/ha0ro937gcuc7l7deffksulhg5h7mbp1/m8srjmchmi9ooh1tdga9a4hja5lisg4j/1681927050000/14904333240138417226/*/1zrdSHN2tq_Hj3YdbwlM3jk87Oct42XpR?e=download&uuid=503503d9-3ffb-44df-9e91-ba2c0496962f [переход]\n",
      "Предупреждение: в HTTP маски не поддерживаются.\n",
      "--2023-04-19 20:58:08--  https://doc-0s-c0-docs.googleusercontent.com/docs/securesc/ha0ro937gcuc7l7deffksulhg5h7mbp1/m8srjmchmi9ooh1tdga9a4hja5lisg4j/1681927050000/14904333240138417226/*/1zrdSHN2tq_Hj3YdbwlM3jk87Oct42XpR?e=download&uuid=503503d9-3ffb-44df-9e91-ba2c0496962f\n",
      "Распознаётся doc-0s-c0-docs.googleusercontent.com (doc-0s-c0-docs.googleusercontent.com)… 216.58.209.193, 2a00:1450:4026:803::2001\n",
      "Подключение к doc-0s-c0-docs.googleusercontent.com (doc-0s-c0-docs.googleusercontent.com)|216.58.209.193|:443... соединение установлено.\n",
      "HTTP-запрос отправлен. Ожидание ответа… 200 OK\n",
      "Длина: 145159860 (138M) [text/csv]\n",
      "Сохранение в: «articles.csv»\n",
      "\n",
      "articles.csv        100%[===================>] 138,43M  20,3MB/s    за 8,2s    \n",
      "\n",
      "2023-04-19 20:58:17 (16,8 MB/s) - «articles.csv» сохранён [145159860/145159860]\n",
      "\n",
      "--2023-04-19 20:58:17--  https://drive.google.com/uc?export=download&id=1Q97K9eGrvpbS4ut5CphZa--gJDRqQp2a\n",
      "Распознаётся drive.google.com (drive.google.com)… 173.194.221.194, 2a00:1450:4010:c0a::c2\n",
      "Подключение к drive.google.com (drive.google.com)|173.194.221.194|:443... соединение установлено.\n",
      "HTTP-запрос отправлен. Ожидание ответа… 303 See Other\n",
      "Адрес: https://doc-04-c0-docs.googleusercontent.com/docs/securesc/ha0ro937gcuc7l7deffksulhg5h7mbp1/tfgep1eqf66fuuse02cnv6680lmo81od/1681927050000/14904333240138417226/*/1Q97K9eGrvpbS4ut5CphZa--gJDRqQp2a?e=download&uuid=91860a37-3de7-401b-ab2b-6b0fd2097343 [переход]\n",
      "Предупреждение: в HTTP маски не поддерживаются.\n",
      "--2023-04-19 20:58:18--  https://doc-04-c0-docs.googleusercontent.com/docs/securesc/ha0ro937gcuc7l7deffksulhg5h7mbp1/tfgep1eqf66fuuse02cnv6680lmo81od/1681927050000/14904333240138417226/*/1Q97K9eGrvpbS4ut5CphZa--gJDRqQp2a?e=download&uuid=91860a37-3de7-401b-ab2b-6b0fd2097343\n",
      "Распознаётся doc-04-c0-docs.googleusercontent.com (doc-04-c0-docs.googleusercontent.com)… 216.58.209.193, 2a00:1450:4026:803::2001\n",
      "Подключение к doc-04-c0-docs.googleusercontent.com (doc-04-c0-docs.googleusercontent.com)|216.58.209.193|:443... соединение установлено.\n",
      "HTTP-запрос отправлен. Ожидание ответа… 200 OK\n",
      "Длина: 434166 (424K) [text/csv]\n",
      "Сохранение в: «users_articles.csv»\n",
      "\n",
      "users_articles.csv  100%[===================>] 423,99K  1,26MB/s    за 0,3s    \n",
      "\n",
      "2023-04-19 20:58:19 (1,26 MB/s) - «users_articles.csv» сохранён [434166/434166]\n",
      "\n"
     ]
    }
   ],
   "source": [
    "!wget --load-cookies /tmp/cookies.txt \"https://docs.google.com/uc?export=download&confirm=$(wget --quiet --save-cookies /tmp/cookies.txt --keep-session-cookies --no-check-certificate 'https://docs.google.com/uc?export=download&id=1zrdSHN2tq_Hj3YdbwlM3jk87Oct42XpR' -O- | sed -rn 's/.*confirm=([0-9A-Za-z_]+).*/\\1\\n/p')&id=1zrdSHN2tq_Hj3YdbwlM3jk87Oct42XpR\" -O articles.csv && rm -rf /tmp/cookies.txt \n",
    "!wget 'https://drive.google.com/uc?export=download&id=1Q97K9eGrvpbS4ut5CphZa--gJDRqQp2a' -O users_articles.csv"
   ]
  },
  {
   "cell_type": "code",
   "execution_count": 3,
   "metadata": {
    "colab": {
     "base_uri": "https://localhost:8080/",
     "height": 161
    },
    "id": "LNFHyPQHrO0M",
    "outputId": "6b38e592-ceae-437a-a581-c0f922d22ba8"
   },
   "outputs": [
    {
     "name": "stdout",
     "output_type": "stream",
     "text": [
      "(27000, 2)\n"
     ]
    },
    {
     "data": {
      "text/html": [
       "<div>\n",
       "<style scoped>\n",
       "    .dataframe tbody tr th:only-of-type {\n",
       "        vertical-align: middle;\n",
       "    }\n",
       "\n",
       "    .dataframe tbody tr th {\n",
       "        vertical-align: top;\n",
       "    }\n",
       "\n",
       "    .dataframe thead th {\n",
       "        text-align: right;\n",
       "    }\n",
       "</style>\n",
       "<table border=\"1\" class=\"dataframe\">\n",
       "  <thead>\n",
       "    <tr style=\"text-align: right;\">\n",
       "      <th></th>\n",
       "      <th>doc_id</th>\n",
       "      <th>title</th>\n",
       "    </tr>\n",
       "  </thead>\n",
       "  <tbody>\n",
       "    <tr>\n",
       "      <th>0</th>\n",
       "      <td>6</td>\n",
       "      <td>Заместитель председателяnправительства РФnСерг...</td>\n",
       "    </tr>\n",
       "    <tr>\n",
       "      <th>1</th>\n",
       "      <td>4896</td>\n",
       "      <td>Матч 1/16 финала Кубка России по футболу был п...</td>\n",
       "    </tr>\n",
       "    <tr>\n",
       "      <th>2</th>\n",
       "      <td>4897</td>\n",
       "      <td>Форвард «Авангарда» Томаш Заборский прокоммент...</td>\n",
       "    </tr>\n",
       "  </tbody>\n",
       "</table>\n",
       "</div>"
      ],
      "text/plain": [
       "   doc_id                                              title\n",
       "0       6  Заместитель председателяnправительства РФnСерг...\n",
       "1    4896  Матч 1/16 финала Кубка России по футболу был п...\n",
       "2    4897  Форвард «Авангарда» Томаш Заборский прокоммент..."
      ]
     },
     "execution_count": 3,
     "metadata": {},
     "output_type": "execute_result"
    }
   ],
   "source": [
    "news = pd.read_csv(\"articles.csv\")\n",
    "print(news.shape)\n",
    "news.head(3)"
   ]
  },
  {
   "cell_type": "markdown",
   "metadata": {
    "id": "rXqISPsTrO0R"
   },
   "source": [
    "Загрузим пользователей и списки последних прочитанных новостей"
   ]
  },
  {
   "cell_type": "code",
   "execution_count": 4,
   "metadata": {
    "colab": {
     "base_uri": "https://localhost:8080/",
     "height": 143
    },
    "id": "B_Wte8vFrO0S",
    "outputId": "9d7525c7-d71b-438c-8beb-b598fe7eab09"
   },
   "outputs": [
    {
     "data": {
      "text/html": [
       "<div>\n",
       "<style scoped>\n",
       "    .dataframe tbody tr th:only-of-type {\n",
       "        vertical-align: middle;\n",
       "    }\n",
       "\n",
       "    .dataframe tbody tr th {\n",
       "        vertical-align: top;\n",
       "    }\n",
       "\n",
       "    .dataframe thead th {\n",
       "        text-align: right;\n",
       "    }\n",
       "</style>\n",
       "<table border=\"1\" class=\"dataframe\">\n",
       "  <thead>\n",
       "    <tr style=\"text-align: right;\">\n",
       "      <th></th>\n",
       "      <th>uid</th>\n",
       "      <th>articles</th>\n",
       "    </tr>\n",
       "  </thead>\n",
       "  <tbody>\n",
       "    <tr>\n",
       "      <th>0</th>\n",
       "      <td>u105138</td>\n",
       "      <td>[293672, 293328, 293001, 293622, 293126, 1852]</td>\n",
       "    </tr>\n",
       "    <tr>\n",
       "      <th>1</th>\n",
       "      <td>u108690</td>\n",
       "      <td>[3405, 1739, 2972, 1158, 1599, 322665]</td>\n",
       "    </tr>\n",
       "    <tr>\n",
       "      <th>2</th>\n",
       "      <td>u108339</td>\n",
       "      <td>[1845, 2009, 2356, 1424, 2939, 323389]</td>\n",
       "    </tr>\n",
       "  </tbody>\n",
       "</table>\n",
       "</div>"
      ],
      "text/plain": [
       "       uid                                        articles\n",
       "0  u105138  [293672, 293328, 293001, 293622, 293126, 1852]\n",
       "1  u108690          [3405, 1739, 2972, 1158, 1599, 322665]\n",
       "2  u108339          [1845, 2009, 2356, 1424, 2939, 323389]"
      ]
     },
     "execution_count": 4,
     "metadata": {},
     "output_type": "execute_result"
    }
   ],
   "source": [
    "users = pd.read_csv(\"users_articles.csv\")\n",
    "users.head(3)"
   ]
  },
  {
   "cell_type": "markdown",
   "metadata": {
    "id": "gC2mYbVorO0T"
   },
   "source": [
    "Итак, нам нужно получить векторные представления пользователей на основе прочитанным ими новостей и самих новостей"
   ]
  },
  {
   "cell_type": "markdown",
   "metadata": {
    "id": "yzjqymHOrO0U"
   },
   "source": [
    "### 1. Получаем векторные представления новостей"
   ]
  },
  {
   "cell_type": "code",
   "execution_count": 5,
   "metadata": {
    "colab": {
     "base_uri": "https://localhost:8080/"
    },
    "id": "IOUvCQhMtEbt",
    "outputId": "f9eb6423-54c9-4d0c-bbb0-3f3fceb23006"
   },
   "outputs": [
    {
     "name": "stdout",
     "output_type": "stream",
     "text": [
      "Collecting razdel\n",
      "  Downloading razdel-0.5.0-py3-none-any.whl (21 kB)\n",
      "Collecting pymorphy2\n",
      "  Downloading pymorphy2-0.9.1-py3-none-any.whl (55 kB)\n",
      "\u001b[K     |████████████████████████████████| 55 kB 784 kB/s eta 0:00:01\n",
      "\u001b[?25hCollecting dawg-python>=0.7.1\n",
      "  Downloading DAWG_Python-0.7.2-py2.py3-none-any.whl (11 kB)\n",
      "Collecting docopt>=0.6\n",
      "  Downloading docopt-0.6.2.tar.gz (25 kB)\n",
      "Collecting pymorphy2-dicts-ru<3.0,>=2.4\n",
      "  Downloading pymorphy2_dicts_ru-2.4.417127.4579844-py2.py3-none-any.whl (8.2 MB)\n",
      "\u001b[K     |████████████████████████████████| 8.2 MB 1.6 MB/s eta 0:00:01     |█████                           | 1.3 MB 1.6 MB/s eta 0:00:05     |██████▋                         | 1.7 MB 1.6 MB/s eta 0:00:05     |███████████▌                    | 2.9 MB 1.6 MB/s eta 0:00:04�██████████████▊               | 4.3 MB 1.6 MB/s eta 0:00:03\n",
      "\u001b[?25hBuilding wheels for collected packages: docopt\n",
      "  Building wheel for docopt (setup.py) ... \u001b[?25ldone\n",
      "\u001b[?25h  Created wheel for docopt: filename=docopt-0.6.2-py2.py3-none-any.whl size=13723 sha256=229508f6d82f52c53e622edc24529d61edebf361fbe8c06bc4fad6370c7cab6d\n",
      "  Stored in directory: /home/krassa/.cache/pip/wheels/70/4a/46/1309fc853b8d395e60bafaf1b6df7845bdd82c95fd59dd8d2b\n",
      "Successfully built docopt\n",
      "Installing collected packages: pymorphy2-dicts-ru, docopt, dawg-python, razdel, pymorphy2\n",
      "Successfully installed dawg-python-0.7.2 docopt-0.6.2 pymorphy2-0.9.1 pymorphy2-dicts-ru-2.4.417127.4579844 razdel-0.5.0\n"
     ]
    }
   ],
   "source": [
    "!pip install razdel pymorphy2"
   ]
  },
  {
   "cell_type": "code",
   "execution_count": 6,
   "metadata": {
    "id": "r5aEUfAArO0W"
   },
   "outputs": [],
   "source": [
    "# предобработка текстов\n",
    "import re\n",
    "import numpy as np\n",
    "from gensim.corpora.dictionary import Dictionary\n",
    "from razdel import tokenize  # сегментация русскоязычного текста на токены и предложения https://github.com/natasha/razdel\n",
    "import pymorphy2  # Морфологический анализатор"
   ]
  },
  {
   "cell_type": "code",
   "execution_count": 7,
   "metadata": {
    "colab": {
     "base_uri": "https://localhost:8080/"
    },
    "id": "stfdHK-ivFlT",
    "outputId": "12c5a5c2-2830-41d1-c309-8d0113259db1"
   },
   "outputs": [
    {
     "name": "stderr",
     "output_type": "stream",
     "text": [
      "[nltk_data] Downloading package stopwords to /home/krassa/nltk_data...\n",
      "[nltk_data]   Unzipping corpora/stopwords.zip.\n"
     ]
    },
    {
     "data": {
      "text/plain": [
       "True"
      ]
     },
     "execution_count": 7,
     "metadata": {},
     "output_type": "execute_result"
    }
   ],
   "source": [
    "import nltk\n",
    "from nltk.corpus import stopwords\n",
    "nltk.download('stopwords')"
   ]
  },
  {
   "cell_type": "code",
   "execution_count": 8,
   "metadata": {
    "colab": {
     "base_uri": "https://localhost:8080/"
    },
    "id": "bwgnYaT7rO0X",
    "outputId": "0322dff3-7f1f-4e64-ba37-32b930f23295"
   },
   "outputs": [
    {
     "name": "stdout",
     "output_type": "stream",
     "text": [
      "151\n"
     ]
    }
   ],
   "source": [
    "stopword_ru = stopwords.words('russian')\n",
    "print(len(stopword_ru))"
   ]
  },
  {
   "cell_type": "code",
   "execution_count": 9,
   "metadata": {
    "colab": {
     "base_uri": "https://localhost:8080/"
    },
    "id": "GnsDhcwLxcwU",
    "outputId": "8c0735f0-568f-404c-d650-7cf08ece5602"
   },
   "outputs": [
    {
     "name": "stdout",
     "output_type": "stream",
     "text": [
      "--2023-04-19 21:01:51--  https://drive.google.com/uc?export=download&id=17wVn5YPpMjHToctGgff_KfSeWcIIlf7c\n",
      "Распознаётся drive.google.com (drive.google.com)… 173.194.221.194, 2a00:1450:4010:c0a::c2\n",
      "Подключение к drive.google.com (drive.google.com)|173.194.221.194|:443... соединение установлено.\n",
      "HTTP-запрос отправлен. Ожидание ответа… 303 See Other\n",
      "Адрес: https://doc-0s-c0-docs.googleusercontent.com/docs/securesc/ha0ro937gcuc7l7deffksulhg5h7mbp1/sonb9gkl0fsga1vkri8o1pv3pgiv22d7/1681927275000/14904333240138417226/*/17wVn5YPpMjHToctGgff_KfSeWcIIlf7c?e=download&uuid=82f5fc79-3c0b-4b29-a29a-157c40fcc901 [переход]\n",
      "Предупреждение: в HTTP маски не поддерживаются.\n",
      "--2023-04-19 21:01:51--  https://doc-0s-c0-docs.googleusercontent.com/docs/securesc/ha0ro937gcuc7l7deffksulhg5h7mbp1/sonb9gkl0fsga1vkri8o1pv3pgiv22d7/1681927275000/14904333240138417226/*/17wVn5YPpMjHToctGgff_KfSeWcIIlf7c?e=download&uuid=82f5fc79-3c0b-4b29-a29a-157c40fcc901\n",
      "Распознаётся doc-0s-c0-docs.googleusercontent.com (doc-0s-c0-docs.googleusercontent.com)… 216.58.209.193, 2a00:1450:4026:803::2001\n",
      "Подключение к doc-0s-c0-docs.googleusercontent.com (doc-0s-c0-docs.googleusercontent.com)|216.58.209.193|:443... соединение установлено.\n",
      "HTTP-запрос отправлен. Ожидание ответа… 200 OK\n",
      "Длина: 5368 (5,2K) [text/plain]\n",
      "Сохранение в: «stopwords.txt»\n",
      "\n",
      "stopwords.txt       100%[===================>]   5,24K  --.-KB/s    за 0,005s  \n",
      "\n",
      "2023-04-19 21:01:52 (1,01 MB/s) - «stopwords.txt» сохранён [5368/5368]\n",
      "\n"
     ]
    }
   ],
   "source": [
    "!wget 'https://drive.google.com/uc?export=download&id=17wVn5YPpMjHToctGgff_KfSeWcIIlf7c' -O stopwords.txt"
   ]
  },
  {
   "cell_type": "code",
   "execution_count": 10,
   "metadata": {
    "colab": {
     "base_uri": "https://localhost:8080/"
    },
    "id": "fw3Nj3qhrO0X",
    "outputId": "479e454a-4a26-4870-fa68-c9a3f523bb25"
   },
   "outputs": [
    {
     "data": {
      "text/plain": [
       "776"
      ]
     },
     "execution_count": 10,
     "metadata": {},
     "output_type": "execute_result"
    }
   ],
   "source": [
    "with open('stopwords.txt') as f:\n",
    "    additional_stopwords = [w.strip() for w in f.readlines() if w]\n",
    "    \n",
    "stopword_ru += additional_stopwords\n",
    "len(stopword_ru)"
   ]
  },
  {
   "cell_type": "code",
   "execution_count": 11,
   "metadata": {
    "id": "hdyTS-yDrO0Y"
   },
   "outputs": [],
   "source": [
    "def clean_text(text):\n",
    "    '''\n",
    "    очистка текста\n",
    "    \n",
    "    на выходе очищеный текст\n",
    "    '''\n",
    "    if not isinstance(text, str):\n",
    "        text = str(text)\n",
    "    \n",
    "    text = text.lower()\n",
    "    text = text.strip('\\n').strip('\\r').strip('\\t')\n",
    "    text = re.sub(\"-\\s\\r\\n\\|-\\s\\r\\n|\\r\\n\", '', str(text))\n",
    "\n",
    "    text = re.sub(\"[0-9]|[-—.,:;_%©«»?*!@#№$^•·&()]|[+=]|[[]|[]]|[/]|\", '', text)\n",
    "    text = re.sub(r\"\\r\\n\\t|\\n|\\\\s|\\r\\t|\\\\n\", ' ', text)\n",
    "    text = re.sub(r'[\\xad]|[\\s+]', ' ', text.strip())\n",
    "    text = re.sub('n', ' ', text)\n",
    "    \n",
    "    return text\n",
    "\n",
    "cache = {}\n",
    "morph = pymorphy2.MorphAnalyzer()\n",
    "\n",
    "def lemmatization(text):    \n",
    "    '''\n",
    "    лемматизация\n",
    "        [0] если зашел тип не `str` делаем его `str`\n",
    "        [1] токенизация предложения через razdel\n",
    "        [2] проверка есть ли в начале слова '-'\n",
    "        [3] проверка токена с одного символа\n",
    "        [4] проверка есть ли данное слово в кэше\n",
    "        [5] лемматизация слова\n",
    "        [6] проверка на стоп-слова\n",
    "\n",
    "    на выходе лист лемматизированых токенов\n",
    "    '''\n",
    "\n",
    "    # [0]\n",
    "    if not isinstance(text, str):\n",
    "        text = str(text)\n",
    "    \n",
    "    # [1]\n",
    "    tokens = list(tokenize(text))\n",
    "    words = [_.text for _ in tokens]\n",
    "\n",
    "    words_lem = []\n",
    "    for w in words:\n",
    "        if w[0] == '-': # [2]\n",
    "            w = w[1:]\n",
    "        if len(w) > 1: # [3]\n",
    "            if w in cache: # [4]\n",
    "                words_lem.append(cache[w])\n",
    "            else: # [5]\n",
    "                temp_cach = cache[w] = morph.parse(w)[0].normal_form\n",
    "                words_lem.append(temp_cach)\n",
    "    \n",
    "    words_lem_without_stopwords = [i for i in words_lem if not i in stopword_ru] # [6]\n",
    "    \n",
    "    return words_lem_without_stopwords"
   ]
  },
  {
   "cell_type": "code",
   "execution_count": 12,
   "metadata": {
    "colab": {
     "base_uri": "https://localhost:8080/"
    },
    "id": "QB2yF4CsrO0Z",
    "outputId": "ed951421-5655-4f1c-82b0-7ea535cb5306",
    "scrolled": true
   },
   "outputs": [
    {
     "name": "stderr",
     "output_type": "stream",
     "text": [
      "  0%|                                                 | 0/27000 [00:00<?, ?it/s]/tmp/ipykernel_5214/4083466619.py:14: FutureWarning: Possible nested set at position 39\n",
      "  text = re.sub(\"[0-9]|[-—.,:;_%©«»?*!@#№$^•·&()]|[+=]|[[]|[]]|[/]|\", '', text)\n",
      "100%|████████████████████████████████████| 27000/27000 [00:29<00:00, 907.76it/s]\n"
     ]
    }
   ],
   "source": [
    "from tqdm import tqdm\n",
    "tqdm.pandas()\n",
    "\n",
    "# Запускаем очистку текста. Будет долго...\n",
    "news['title'] = news['title'].progress_apply(lambda x: clean_text(x))"
   ]
  },
  {
   "cell_type": "code",
   "execution_count": 13,
   "metadata": {
    "colab": {
     "base_uri": "https://localhost:8080/"
    },
    "id": "XmkV3EefzYf0",
    "outputId": "6ddd8ac9-6ec1-4c5a-8b42-23c0a93169d2"
   },
   "outputs": [
    {
     "data": {
      "text/plain": [
       "0    заместитель председателя правительства рф серг...\n",
       "1    матч  финала кубка россии по футболу был приос...\n",
       "2    форвард авангарда томаш заборский прокомментир...\n",
       "3    главный тренер кубани юрий красножан прокоммен...\n",
       "4    решением попечительского совета владивостокско...\n",
       "5    ио главного тренера вячеслав буцаев прокоммент...\n",
       "6    запорожский металлург дома потерпел разгромное...\n",
       "7    сборная сша одержала победу над австрией со сч...\n",
       "8    бывший защитник сборной россии дарюс каспарайт...\n",
       "9    полузащитник цска зоран тошич после победы над...\n",
       "Name: title, dtype: object"
      ]
     },
     "execution_count": 13,
     "metadata": {},
     "output_type": "execute_result"
    }
   ],
   "source": [
    "news['title'].iloc[:10]"
   ]
  },
  {
   "cell_type": "code",
   "execution_count": 14,
   "metadata": {
    "colab": {
     "base_uri": "https://localhost:8080/"
    },
    "id": "ug4Q6n2VrO0b",
    "outputId": "843b1a14-68cd-4804-d4ef-fcc8a2a734c4"
   },
   "outputs": [
    {
     "name": "stderr",
     "output_type": "stream",
     "text": [
      "100%|████████████████████████████████████| 27000/27000 [03:22<00:00, 133.27it/s]\n"
     ]
    }
   ],
   "source": [
    "# Запускаем лемматизацию текста. Будет очень долго...\n",
    "news['title'] = news['title'].progress_apply(lambda x: lemmatization(x))"
   ]
  },
  {
   "cell_type": "markdown",
   "metadata": {
    "id": "pUGOY6a5rO0c"
   },
   "source": [
    "А теперь в 3 строчки обучим нашу модель"
   ]
  },
  {
   "cell_type": "code",
   "execution_count": 15,
   "metadata": {
    "id": "TCyJb8-8rO0d"
   },
   "outputs": [],
   "source": [
    "# сформируем список наших текстов\n",
    "texts = list(news['title'].values)\n",
    "\n",
    "# Создадим корпус из списка с текстами\n",
    "common_dictionary = Dictionary(texts)\n",
    "common_corpus = [common_dictionary.doc2bow(text) for text in texts]"
   ]
  },
  {
   "cell_type": "markdown",
   "metadata": {
    "id": "HXPsfhNYrO0i"
   },
   "source": [
    "Запускаем обучение"
   ]
  },
  {
   "cell_type": "code",
   "execution_count": 16,
   "metadata": {
    "id": "yKtJddFL8UjP"
   },
   "outputs": [],
   "source": [
    "N_topic = 20  # можно было менять"
   ]
  },
  {
   "cell_type": "code",
   "execution_count": 17,
   "metadata": {
    "id": "M7vErZgurO0j"
   },
   "outputs": [],
   "source": [
    "from gensim.models import LdaModel\n",
    "\n",
    "# Обучаем модель на корпусе\n",
    "lda = LdaModel(common_corpus, num_topics=N_topic, id2word=common_dictionary, passes=2)  # можно было менять"
   ]
  },
  {
   "cell_type": "code",
   "execution_count": 18,
   "metadata": {
    "id": "wSqtDjVJrO0j"
   },
   "outputs": [],
   "source": [
    "from gensim.test.utils import datapath\n",
    "\n",
    "# Сохраняем модель на диск\n",
    "temp_file = datapath(\"model.lda\")\n",
    "lda.save(temp_file)"
   ]
  },
  {
   "cell_type": "code",
   "execution_count": 19,
   "metadata": {
    "id": "HdhE3p_KysTd"
   },
   "outputs": [],
   "source": [
    "# Загружаем обученную модель с диска\n",
    "lda = LdaModel.load(temp_file)"
   ]
  },
  {
   "cell_type": "code",
   "execution_count": 20,
   "metadata": {
    "colab": {
     "base_uri": "https://localhost:8080/"
    },
    "id": "P6AZMJMXrO0l",
    "outputId": "588bb9cf-3086-47fb-d2f4-e8ab4627d265"
   },
   "outputs": [
    {
     "name": "stdout",
     "output_type": "stream",
     "text": [
      "['форвард', 'авангард', 'томаш', 'заборский', 'прокомментировать', 'игра', 'команда', 'матч', 'чемпионат', 'кхл', 'против', 'атланта', 'плохой', 'матч', 'нижний', 'новгород', 'против', 'торпедо', 'настраиваться', 'первый', 'минута', 'включиться', 'заборский', 'получиться', 'забросить', 'быстрый', 'гол', 'задать', 'хороший', 'темп', 'поединок', 'играть', 'хороший', 'сторона', 'пять', 'очко', 'выезд', 'девять', 'хороший']\n"
     ]
    },
    {
     "data": {
      "text/plain": [
       "[(2, 0.23119773), (4, 0.18653147), (12, 0.07822792), (13, 0.4829177)]"
      ]
     },
     "execution_count": 20,
     "metadata": {},
     "output_type": "execute_result"
    }
   ],
   "source": [
    "# Создаем новый корпус документов, которые раньше не видели\n",
    "other_texts = list(news['title'].iloc[:3])\n",
    "other_corpus = [common_dictionary.doc2bow(text) for text in other_texts]\n",
    "\n",
    "unseen_doc = other_corpus[2]\n",
    "print(other_texts[2])\n",
    "lda[unseen_doc] "
   ]
  },
  {
   "cell_type": "markdown",
   "metadata": {
    "id": "wuxhnNakrO0k"
   },
   "source": [
    "Обучили модель. Теперь 2 вопроса:\n",
    "\n",
    "1. как выглядят наши темы\n",
    "2. как получить для документа вектор значений (вероятности принадлежности каждой теме)"
   ]
  },
  {
   "cell_type": "code",
   "execution_count": 21,
   "metadata": {
    "colab": {
     "base_uri": "https://localhost:8080/"
    },
    "id": "W0Q0uqACrO0m",
    "outputId": "5e0e4381-10e7-40ee-8253-30ba9d6e1d65"
   },
   "outputs": [
    {
     "name": "stdout",
     "output_type": "stream",
     "text": [
      "topic_0: произойти тело сотрудник местный мужчина обнаружить штат\n",
      "topic_1: рак мероприятие программа сайт конкурс участник праздник\n",
      "topic_2: пациент китай китайский сократиться россиянин тур таиланд\n",
      "topic_3: россия правительство путин глава владимир закон право\n",
      "topic_4: общество производитель кровь фотография следователь разместить юг\n",
      "topic_5: млн британский великобритания место превысить озеро франция\n",
      "topic_6: погибнуть трагедия ск бомба выдать огонь полицейский\n",
      "topic_7: рубль цена газ ракета млн экономика мозг\n",
      "topic_8: москва станция площадь столица торговый московский центр\n",
      "topic_9: сша военный россия российский американский фонд журнал\n",
      "topic_10: россия российский сторона система помощь территория сша\n",
      "topic_11: адмирал инвестировать показ электроника скотт мак песок\n",
      "topic_12: статья день наука научный университет жизнь советский\n",
      "topic_13: ребёнок население гражданин семья всё день русский\n",
      "topic_14: земля всё газета первый ru планета взрыв\n",
      "topic_15: памятник область израиль конструкция регион берег тепло\n",
      "topic_16: поверхность восток турция египет турецкий градус падение\n",
      "topic_17: новый исследование млрд рынок банк рост проект\n",
      "topic_18: солнце квартира погода тёплый небо крыша рисунок\n",
      "topic_19: россия украина российский украинский глава решение научный\n"
     ]
    }
   ],
   "source": [
    "x = lda.show_topics(num_topics=N_topic, num_words=7, formatted=False)\n",
    "topics_words = [(tp[0], [wd[0] for wd in tp[1]]) for tp in x]\n",
    "\n",
    "# Печатаем только слова\n",
    "for topic, words in topics_words:\n",
    "    print(f\"topic_{topic}: \" + \" \".join(words))"
   ]
  },
  {
   "cell_type": "markdown",
   "metadata": {
    "id": "54-NWqJlrO0m"
   },
   "source": [
    "Очень неплохо - большинство тем вполне можно описать о чем они"
   ]
  },
  {
   "cell_type": "markdown",
   "metadata": {
    "id": "Ty7ZrvUirO0n"
   },
   "source": [
    "Давайте напишем функцию, которая будет нам возвращать векторное представление новости"
   ]
  },
  {
   "cell_type": "code",
   "execution_count": 22,
   "metadata": {
    "id": "KprjS5qLrO0o"
   },
   "outputs": [],
   "source": [
    "def get_lda_vector(lda, text):\n",
    "    unseen_doc = common_dictionary.doc2bow(text)\n",
    "    lda_tuple = lda[unseen_doc]\n",
    "\n",
    "    not_null_topics = dict(zip([i[0] for i in lda_tuple], [i[1] for i in lda_tuple]))\n",
    "\n",
    "    output_vector = []\n",
    "    for i in range(N_topic):\n",
    "        if i not in not_null_topics:\n",
    "            output_vector.append(0)\n",
    "        else:\n",
    "            output_vector.append(not_null_topics[i])\n",
    "    return np.array(output_vector)"
   ]
  },
  {
   "cell_type": "code",
   "execution_count": 23,
   "metadata": {
    "colab": {
     "base_uri": "https://localhost:8080/"
    },
    "id": "Ior7y34i-Uwo",
    "outputId": "9fc0a69a-aa46-4f6f-9ed3-a6b26995b069"
   },
   "outputs": [
    {
     "data": {
      "text/plain": [
       "array([0.        , 0.        , 0.02678616, 0.13248965, 0.        ,\n",
       "       0.        , 0.        , 0.        , 0.        , 0.        ,\n",
       "       0.0928829 , 0.        , 0.        , 0.        , 0.        ,\n",
       "       0.        , 0.08874853, 0.40538794, 0.        , 0.24683237])"
      ]
     },
     "execution_count": 23,
     "metadata": {},
     "output_type": "execute_result"
    }
   ],
   "source": [
    "get_lda_vector(lda, news['title'].iloc[0])"
   ]
  },
  {
   "cell_type": "code",
   "execution_count": 24,
   "metadata": {
    "colab": {
     "base_uri": "https://localhost:8080/",
     "height": 300
    },
    "id": "VbrPcaB6rO0o",
    "outputId": "1659041f-25aa-45a4-a313-533fb42afd62"
   },
   "outputs": [
    {
     "data": {
      "text/html": [
       "<div>\n",
       "<style scoped>\n",
       "    .dataframe tbody tr th:only-of-type {\n",
       "        vertical-align: middle;\n",
       "    }\n",
       "\n",
       "    .dataframe tbody tr th {\n",
       "        vertical-align: top;\n",
       "    }\n",
       "\n",
       "    .dataframe thead th {\n",
       "        text-align: right;\n",
       "    }\n",
       "</style>\n",
       "<table border=\"1\" class=\"dataframe\">\n",
       "  <thead>\n",
       "    <tr style=\"text-align: right;\">\n",
       "      <th></th>\n",
       "      <th>doc_id</th>\n",
       "      <th>topic_0</th>\n",
       "      <th>topic_1</th>\n",
       "      <th>topic_2</th>\n",
       "      <th>topic_3</th>\n",
       "      <th>topic_4</th>\n",
       "      <th>topic_5</th>\n",
       "      <th>topic_6</th>\n",
       "      <th>topic_7</th>\n",
       "      <th>topic_8</th>\n",
       "      <th>...</th>\n",
       "      <th>topic_10</th>\n",
       "      <th>topic_11</th>\n",
       "      <th>topic_12</th>\n",
       "      <th>topic_13</th>\n",
       "      <th>topic_14</th>\n",
       "      <th>topic_15</th>\n",
       "      <th>topic_16</th>\n",
       "      <th>topic_17</th>\n",
       "      <th>topic_18</th>\n",
       "      <th>topic_19</th>\n",
       "    </tr>\n",
       "  </thead>\n",
       "  <tbody>\n",
       "    <tr>\n",
       "      <th>0</th>\n",
       "      <td>6</td>\n",
       "      <td>0.0</td>\n",
       "      <td>0.0</td>\n",
       "      <td>0.026778</td>\n",
       "      <td>0.132741</td>\n",
       "      <td>0.000000</td>\n",
       "      <td>0.000000</td>\n",
       "      <td>0.0</td>\n",
       "      <td>0.0</td>\n",
       "      <td>0.0</td>\n",
       "      <td>...</td>\n",
       "      <td>0.092887</td>\n",
       "      <td>0.0</td>\n",
       "      <td>0.000000</td>\n",
       "      <td>0.000000</td>\n",
       "      <td>0.000000</td>\n",
       "      <td>0.0</td>\n",
       "      <td>0.088767</td>\n",
       "      <td>0.40547</td>\n",
       "      <td>0.0</td>\n",
       "      <td>0.246484</td>\n",
       "    </tr>\n",
       "    <tr>\n",
       "      <th>1</th>\n",
       "      <td>4896</td>\n",
       "      <td>0.0</td>\n",
       "      <td>0.0</td>\n",
       "      <td>0.266157</td>\n",
       "      <td>0.000000</td>\n",
       "      <td>0.000000</td>\n",
       "      <td>0.000000</td>\n",
       "      <td>0.0</td>\n",
       "      <td>0.0</td>\n",
       "      <td>0.0</td>\n",
       "      <td>...</td>\n",
       "      <td>0.000000</td>\n",
       "      <td>0.0</td>\n",
       "      <td>0.000000</td>\n",
       "      <td>0.000000</td>\n",
       "      <td>0.710146</td>\n",
       "      <td>0.0</td>\n",
       "      <td>0.000000</td>\n",
       "      <td>0.00000</td>\n",
       "      <td>0.0</td>\n",
       "      <td>0.000000</td>\n",
       "    </tr>\n",
       "    <tr>\n",
       "      <th>2</th>\n",
       "      <td>4897</td>\n",
       "      <td>0.0</td>\n",
       "      <td>0.0</td>\n",
       "      <td>0.231199</td>\n",
       "      <td>0.000000</td>\n",
       "      <td>0.186535</td>\n",
       "      <td>0.000000</td>\n",
       "      <td>0.0</td>\n",
       "      <td>0.0</td>\n",
       "      <td>0.0</td>\n",
       "      <td>...</td>\n",
       "      <td>0.000000</td>\n",
       "      <td>0.0</td>\n",
       "      <td>0.078224</td>\n",
       "      <td>0.482917</td>\n",
       "      <td>0.000000</td>\n",
       "      <td>0.0</td>\n",
       "      <td>0.000000</td>\n",
       "      <td>0.00000</td>\n",
       "      <td>0.0</td>\n",
       "      <td>0.000000</td>\n",
       "    </tr>\n",
       "    <tr>\n",
       "      <th>3</th>\n",
       "      <td>4898</td>\n",
       "      <td>0.0</td>\n",
       "      <td>0.0</td>\n",
       "      <td>0.083536</td>\n",
       "      <td>0.108097</td>\n",
       "      <td>0.000000</td>\n",
       "      <td>0.062456</td>\n",
       "      <td>0.0</td>\n",
       "      <td>0.0</td>\n",
       "      <td>0.0</td>\n",
       "      <td>...</td>\n",
       "      <td>0.000000</td>\n",
       "      <td>0.0</td>\n",
       "      <td>0.000000</td>\n",
       "      <td>0.000000</td>\n",
       "      <td>0.735644</td>\n",
       "      <td>0.0</td>\n",
       "      <td>0.000000</td>\n",
       "      <td>0.00000</td>\n",
       "      <td>0.0</td>\n",
       "      <td>0.000000</td>\n",
       "    </tr>\n",
       "    <tr>\n",
       "      <th>4</th>\n",
       "      <td>4899</td>\n",
       "      <td>0.0</td>\n",
       "      <td>0.0</td>\n",
       "      <td>0.000000</td>\n",
       "      <td>0.264582</td>\n",
       "      <td>0.000000</td>\n",
       "      <td>0.000000</td>\n",
       "      <td>0.0</td>\n",
       "      <td>0.0</td>\n",
       "      <td>0.0</td>\n",
       "      <td>...</td>\n",
       "      <td>0.297243</td>\n",
       "      <td>0.0</td>\n",
       "      <td>0.000000</td>\n",
       "      <td>0.000000</td>\n",
       "      <td>0.000000</td>\n",
       "      <td>0.0</td>\n",
       "      <td>0.187689</td>\n",
       "      <td>0.00000</td>\n",
       "      <td>0.0</td>\n",
       "      <td>0.226894</td>\n",
       "    </tr>\n",
       "  </tbody>\n",
       "</table>\n",
       "<p>5 rows × 21 columns</p>\n",
       "</div>"
      ],
      "text/plain": [
       "   doc_id  topic_0  topic_1   topic_2   topic_3   topic_4   topic_5  topic_6  \\\n",
       "0       6      0.0      0.0  0.026778  0.132741  0.000000  0.000000      0.0   \n",
       "1    4896      0.0      0.0  0.266157  0.000000  0.000000  0.000000      0.0   \n",
       "2    4897      0.0      0.0  0.231199  0.000000  0.186535  0.000000      0.0   \n",
       "3    4898      0.0      0.0  0.083536  0.108097  0.000000  0.062456      0.0   \n",
       "4    4899      0.0      0.0  0.000000  0.264582  0.000000  0.000000      0.0   \n",
       "\n",
       "   topic_7  topic_8  ...  topic_10  topic_11  topic_12  topic_13  topic_14  \\\n",
       "0      0.0      0.0  ...  0.092887       0.0  0.000000  0.000000  0.000000   \n",
       "1      0.0      0.0  ...  0.000000       0.0  0.000000  0.000000  0.710146   \n",
       "2      0.0      0.0  ...  0.000000       0.0  0.078224  0.482917  0.000000   \n",
       "3      0.0      0.0  ...  0.000000       0.0  0.000000  0.000000  0.735644   \n",
       "4      0.0      0.0  ...  0.297243       0.0  0.000000  0.000000  0.000000   \n",
       "\n",
       "   topic_15  topic_16  topic_17  topic_18  topic_19  \n",
       "0       0.0  0.088767   0.40547       0.0  0.246484  \n",
       "1       0.0  0.000000   0.00000       0.0  0.000000  \n",
       "2       0.0  0.000000   0.00000       0.0  0.000000  \n",
       "3       0.0  0.000000   0.00000       0.0  0.000000  \n",
       "4       0.0  0.187689   0.00000       0.0  0.226894  \n",
       "\n",
       "[5 rows x 21 columns]"
      ]
     },
     "execution_count": 24,
     "metadata": {},
     "output_type": "execute_result"
    }
   ],
   "source": [
    "topic_matrix = pd.DataFrame([get_lda_vector(lda, text) for text in news['title'].values])\n",
    "topic_matrix.columns = [f'topic_{i}' for i in range(N_topic)]\n",
    "topic_matrix['doc_id'] = news['doc_id'].values\n",
    "topic_matrix = topic_matrix[['doc_id']+[f'topic_{i}' for i in range(N_topic)]]\n",
    "topic_matrix.head(5)"
   ]
  },
  {
   "cell_type": "markdown",
   "metadata": {
    "id": "VUA1PoYtrO0p"
   },
   "source": [
    "Прекрасно, мы получили вектора наших новостей! И даже умеем интерпретировать получившиеся темы.\n",
    "\n",
    "Можно двигаться далее"
   ]
  },
  {
   "cell_type": "markdown",
   "metadata": {
    "id": "IuomDk2XrO0q"
   },
   "source": [
    "### Следующий шаг - векторные представления пользователей"
   ]
  },
  {
   "cell_type": "code",
   "execution_count": 25,
   "metadata": {
    "colab": {
     "base_uri": "https://localhost:8080/",
     "height": 143
    },
    "id": "qoGsZWbFrO0r",
    "outputId": "292ffbc1-631a-4afd-f1f1-a00d2cce8b3e",
    "scrolled": true
   },
   "outputs": [
    {
     "data": {
      "text/html": [
       "<div>\n",
       "<style scoped>\n",
       "    .dataframe tbody tr th:only-of-type {\n",
       "        vertical-align: middle;\n",
       "    }\n",
       "\n",
       "    .dataframe tbody tr th {\n",
       "        vertical-align: top;\n",
       "    }\n",
       "\n",
       "    .dataframe thead th {\n",
       "        text-align: right;\n",
       "    }\n",
       "</style>\n",
       "<table border=\"1\" class=\"dataframe\">\n",
       "  <thead>\n",
       "    <tr style=\"text-align: right;\">\n",
       "      <th></th>\n",
       "      <th>uid</th>\n",
       "      <th>articles</th>\n",
       "    </tr>\n",
       "  </thead>\n",
       "  <tbody>\n",
       "    <tr>\n",
       "      <th>0</th>\n",
       "      <td>u105138</td>\n",
       "      <td>[293672, 293328, 293001, 293622, 293126, 1852]</td>\n",
       "    </tr>\n",
       "    <tr>\n",
       "      <th>1</th>\n",
       "      <td>u108690</td>\n",
       "      <td>[3405, 1739, 2972, 1158, 1599, 322665]</td>\n",
       "    </tr>\n",
       "    <tr>\n",
       "      <th>2</th>\n",
       "      <td>u108339</td>\n",
       "      <td>[1845, 2009, 2356, 1424, 2939, 323389]</td>\n",
       "    </tr>\n",
       "  </tbody>\n",
       "</table>\n",
       "</div>"
      ],
      "text/plain": [
       "       uid                                        articles\n",
       "0  u105138  [293672, 293328, 293001, 293622, 293126, 1852]\n",
       "1  u108690          [3405, 1739, 2972, 1158, 1599, 322665]\n",
       "2  u108339          [1845, 2009, 2356, 1424, 2939, 323389]"
      ]
     },
     "execution_count": 25,
     "metadata": {},
     "output_type": "execute_result"
    }
   ],
   "source": [
    "users.head(3)"
   ]
  },
  {
   "cell_type": "code",
   "execution_count": 26,
   "metadata": {
    "id": "yHXCN3VsrO0s"
   },
   "outputs": [],
   "source": [
    "doc_dict = dict(zip(topic_matrix['doc_id'].values, topic_matrix[[f'topic_{i}' for i in range(N_topic)]].values))"
   ]
  },
  {
   "cell_type": "code",
   "execution_count": 27,
   "metadata": {
    "colab": {
     "base_uri": "https://localhost:8080/"
    },
    "id": "XjdvHAB2rO0t",
    "outputId": "d4506986-3e58-43ba-a96d-3481644997be"
   },
   "outputs": [
    {
     "data": {
      "text/plain": [
       "array([0.        , 0.12678628, 0.        , 0.        , 0.08116367,\n",
       "       0.        , 0.        , 0.10660992, 0.15150975, 0.        ,\n",
       "       0.        , 0.        , 0.        , 0.        , 0.10092058,\n",
       "       0.        , 0.        , 0.        , 0.        , 0.41355497])"
      ]
     },
     "execution_count": 27,
     "metadata": {},
     "output_type": "execute_result"
    }
   ],
   "source": [
    "doc_dict[293672]"
   ]
  },
  {
   "cell_type": "code",
   "execution_count": 28,
   "metadata": {
    "id": "x_M9N6AQrO0u"
   },
   "outputs": [],
   "source": [
    "def get_user_embedding(user_articles_list, doc_dict, func):\n",
    "    user_articles_list = eval(user_articles_list)\n",
    "    user_vector = np.array([doc_dict[doc_id] for doc_id in user_articles_list])\n",
    "    user_vector = func(user_vector, axis=0)\n",
    "    return user_vector"
   ]
  },
  {
   "cell_type": "code",
   "execution_count": 29,
   "metadata": {
    "colab": {
     "base_uri": "https://localhost:8080/"
    },
    "id": "vflnQMlirO0v",
    "outputId": "02396a22-0623-4aa9-a399-48142285910a"
   },
   "outputs": [
    {
     "data": {
      "text/plain": [
       "array([0.06894426, 0.00253403, 0.00741365, 0.19631172, 0.01600822,\n",
       "       0.        , 0.        , 0.0629678 , 0.0118574 , 0.13756311,\n",
       "       0.08092836, 0.        , 0.06943119, 0.03832455, 0.0475861 ,\n",
       "       0.        , 0.        , 0.11172923, 0.        , 0.13301251])"
      ]
     },
     "execution_count": 29,
     "metadata": {},
     "output_type": "execute_result"
    }
   ],
   "source": [
    "user_articles_list = users['articles'].iloc[33]\n",
    "\n",
    "get_user_embedding(user_articles_list, doc_dict, np.mean)"
   ]
  },
  {
   "cell_type": "markdown",
   "metadata": {
    "id": "jYRrogoNrO0z"
   },
   "source": [
    "Теперь получим эмбединги для всех пользователей и проверим их качество на конкретной downstream-задаче"
   ]
  },
  {
   "cell_type": "code",
   "execution_count": 30,
   "metadata": {
    "id": "d9NVysLH1CUw"
   },
   "outputs": [],
   "source": [
    "FUNC = np.mean"
   ]
  },
  {
   "cell_type": "code",
   "execution_count": 31,
   "metadata": {
    "colab": {
     "base_uri": "https://localhost:8080/",
     "height": 237
    },
    "id": "D4TX-H1trO00",
    "outputId": "34dbf724-3b32-46c6-cfc2-0118c8518d9c"
   },
   "outputs": [
    {
     "data": {
      "text/html": [
       "<div>\n",
       "<style scoped>\n",
       "    .dataframe tbody tr th:only-of-type {\n",
       "        vertical-align: middle;\n",
       "    }\n",
       "\n",
       "    .dataframe tbody tr th {\n",
       "        vertical-align: top;\n",
       "    }\n",
       "\n",
       "    .dataframe thead th {\n",
       "        text-align: right;\n",
       "    }\n",
       "</style>\n",
       "<table border=\"1\" class=\"dataframe\">\n",
       "  <thead>\n",
       "    <tr style=\"text-align: right;\">\n",
       "      <th></th>\n",
       "      <th>uid</th>\n",
       "      <th>topic_0</th>\n",
       "      <th>topic_1</th>\n",
       "      <th>topic_2</th>\n",
       "      <th>topic_3</th>\n",
       "      <th>topic_4</th>\n",
       "      <th>topic_5</th>\n",
       "      <th>topic_6</th>\n",
       "      <th>topic_7</th>\n",
       "      <th>topic_8</th>\n",
       "      <th>...</th>\n",
       "      <th>topic_10</th>\n",
       "      <th>topic_11</th>\n",
       "      <th>topic_12</th>\n",
       "      <th>topic_13</th>\n",
       "      <th>topic_14</th>\n",
       "      <th>topic_15</th>\n",
       "      <th>topic_16</th>\n",
       "      <th>topic_17</th>\n",
       "      <th>topic_18</th>\n",
       "      <th>topic_19</th>\n",
       "    </tr>\n",
       "  </thead>\n",
       "  <tbody>\n",
       "    <tr>\n",
       "      <th>0</th>\n",
       "      <td>u105138</td>\n",
       "      <td>0.069834</td>\n",
       "      <td>0.073194</td>\n",
       "      <td>0.001684</td>\n",
       "      <td>0.171123</td>\n",
       "      <td>0.028670</td>\n",
       "      <td>0.02118</td>\n",
       "      <td>0.011259</td>\n",
       "      <td>0.043017</td>\n",
       "      <td>0.041855</td>\n",
       "      <td>...</td>\n",
       "      <td>0.071205</td>\n",
       "      <td>0.013875</td>\n",
       "      <td>0.032716</td>\n",
       "      <td>0.065652</td>\n",
       "      <td>0.066416</td>\n",
       "      <td>0.009809</td>\n",
       "      <td>0.003885</td>\n",
       "      <td>0.050716</td>\n",
       "      <td>0.000000</td>\n",
       "      <td>0.167724</td>\n",
       "    </tr>\n",
       "    <tr>\n",
       "      <th>1</th>\n",
       "      <td>u108690</td>\n",
       "      <td>0.091674</td>\n",
       "      <td>0.007837</td>\n",
       "      <td>0.000000</td>\n",
       "      <td>0.124768</td>\n",
       "      <td>0.007719</td>\n",
       "      <td>0.00000</td>\n",
       "      <td>0.003116</td>\n",
       "      <td>0.057677</td>\n",
       "      <td>0.009231</td>\n",
       "      <td>...</td>\n",
       "      <td>0.080219</td>\n",
       "      <td>0.000000</td>\n",
       "      <td>0.045917</td>\n",
       "      <td>0.069954</td>\n",
       "      <td>0.117288</td>\n",
       "      <td>0.000000</td>\n",
       "      <td>0.014243</td>\n",
       "      <td>0.027973</td>\n",
       "      <td>0.000000</td>\n",
       "      <td>0.217594</td>\n",
       "    </tr>\n",
       "    <tr>\n",
       "      <th>2</th>\n",
       "      <td>u108339</td>\n",
       "      <td>0.166952</td>\n",
       "      <td>0.018631</td>\n",
       "      <td>0.001771</td>\n",
       "      <td>0.132959</td>\n",
       "      <td>0.009012</td>\n",
       "      <td>0.00000</td>\n",
       "      <td>0.022790</td>\n",
       "      <td>0.063165</td>\n",
       "      <td>0.034683</td>\n",
       "      <td>...</td>\n",
       "      <td>0.121605</td>\n",
       "      <td>0.000000</td>\n",
       "      <td>0.037045</td>\n",
       "      <td>0.030145</td>\n",
       "      <td>0.076041</td>\n",
       "      <td>0.006060</td>\n",
       "      <td>0.010612</td>\n",
       "      <td>0.033517</td>\n",
       "      <td>0.015083</td>\n",
       "      <td>0.140295</td>\n",
       "    </tr>\n",
       "  </tbody>\n",
       "</table>\n",
       "<p>3 rows × 21 columns</p>\n",
       "</div>"
      ],
      "text/plain": [
       "       uid   topic_0   topic_1   topic_2   topic_3   topic_4  topic_5  \\\n",
       "0  u105138  0.069834  0.073194  0.001684  0.171123  0.028670  0.02118   \n",
       "1  u108690  0.091674  0.007837  0.000000  0.124768  0.007719  0.00000   \n",
       "2  u108339  0.166952  0.018631  0.001771  0.132959  0.009012  0.00000   \n",
       "\n",
       "    topic_6   topic_7   topic_8  ...  topic_10  topic_11  topic_12  topic_13  \\\n",
       "0  0.011259  0.043017  0.041855  ...  0.071205  0.013875  0.032716  0.065652   \n",
       "1  0.003116  0.057677  0.009231  ...  0.080219  0.000000  0.045917  0.069954   \n",
       "2  0.022790  0.063165  0.034683  ...  0.121605  0.000000  0.037045  0.030145   \n",
       "\n",
       "   topic_14  topic_15  topic_16  topic_17  topic_18  topic_19  \n",
       "0  0.066416  0.009809  0.003885  0.050716  0.000000  0.167724  \n",
       "1  0.117288  0.000000  0.014243  0.027973  0.000000  0.217594  \n",
       "2  0.076041  0.006060  0.010612  0.033517  0.015083  0.140295  \n",
       "\n",
       "[3 rows x 21 columns]"
      ]
     },
     "execution_count": 31,
     "metadata": {},
     "output_type": "execute_result"
    }
   ],
   "source": [
    "user_embeddings = pd.DataFrame([i for i in users['articles'].apply(lambda x: get_user_embedding(x, doc_dict, FUNC))])\n",
    "user_embeddings.columns = [f'topic_{i}' for i in range(N_topic)]\n",
    "user_embeddings['uid'] = users['uid'].values\n",
    "user_embeddings = user_embeddings[['uid']+[f'topic_{i}' for i in range(N_topic)]]\n",
    "user_embeddings.head(3)"
   ]
  },
  {
   "cell_type": "markdown",
   "metadata": {
    "id": "sNz_0xHmrO01"
   },
   "source": [
    "Датасет готов - можно попробовать обучить модель. Загрузим нашу разметку"
   ]
  },
  {
   "cell_type": "code",
   "execution_count": 32,
   "metadata": {
    "colab": {
     "base_uri": "https://localhost:8080/"
    },
    "id": "MT74Vkzu_9Rx",
    "outputId": "6600381d-be57-4973-916c-466d256726a4"
   },
   "outputs": [
    {
     "name": "stdout",
     "output_type": "stream",
     "text": [
      "--2023-04-19 21:22:55--  https://drive.google.com/uc?export=download&id=1nWKteQgEr9Rl8CwTRY7N2f7igevNH7oK\n",
      "Распознаётся drive.google.com (drive.google.com)… 173.194.221.194, 2a00:1450:4010:c0a::c2\n",
      "Подключение к drive.google.com (drive.google.com)|173.194.221.194|:443... соединение установлено.\n",
      "HTTP-запрос отправлен. Ожидание ответа… 303 See Other\n",
      "Адрес: https://doc-0k-c0-docs.googleusercontent.com/docs/securesc/ha0ro937gcuc7l7deffksulhg5h7mbp1/ls95iqohtujktolh5j4hlsrusqegr2v7/1681928550000/14904333240138417226/*/1nWKteQgEr9Rl8CwTRY7N2f7igevNH7oK?e=download&uuid=c7928b60-8e91-47c1-b79f-ff26affa1487 [переход]\n",
      "Предупреждение: в HTTP маски не поддерживаются.\n",
      "--2023-04-19 21:22:56--  https://doc-0k-c0-docs.googleusercontent.com/docs/securesc/ha0ro937gcuc7l7deffksulhg5h7mbp1/ls95iqohtujktolh5j4hlsrusqegr2v7/1681928550000/14904333240138417226/*/1nWKteQgEr9Rl8CwTRY7N2f7igevNH7oK?e=download&uuid=c7928b60-8e91-47c1-b79f-ff26affa1487\n",
      "Распознаётся doc-0k-c0-docs.googleusercontent.com (doc-0k-c0-docs.googleusercontent.com)… 216.58.209.193, 2a00:1450:4026:803::2001\n",
      "Подключение к doc-0k-c0-docs.googleusercontent.com (doc-0k-c0-docs.googleusercontent.com)|216.58.209.193|:443... соединение установлено.\n",
      "HTTP-запрос отправлен. Ожидание ответа… 200 OK\n",
      "Длина: 80010 (78K) [text/csv]\n",
      "Сохранение в: «users_churn.csv»\n",
      "\n",
      "users_churn.csv     100%[===================>]  78,13K  --.-KB/s    за 0,1s    \n",
      "\n",
      "2023-04-19 21:22:57 (633 KB/s) - «users_churn.csv» сохранён [80010/80010]\n",
      "\n"
     ]
    }
   ],
   "source": [
    "!wget 'https://drive.google.com/uc?export=download&id=1nWKteQgEr9Rl8CwTRY7N2f7igevNH7oK' -O users_churn.csv"
   ]
  },
  {
   "cell_type": "code",
   "execution_count": 33,
   "metadata": {
    "colab": {
     "base_uri": "https://localhost:8080/",
     "height": 143
    },
    "id": "D9jwMilJrO01",
    "outputId": "d74e3a06-efa3-426a-81c1-19bd4810f667"
   },
   "outputs": [
    {
     "data": {
      "text/html": [
       "<div>\n",
       "<style scoped>\n",
       "    .dataframe tbody tr th:only-of-type {\n",
       "        vertical-align: middle;\n",
       "    }\n",
       "\n",
       "    .dataframe tbody tr th {\n",
       "        vertical-align: top;\n",
       "    }\n",
       "\n",
       "    .dataframe thead th {\n",
       "        text-align: right;\n",
       "    }\n",
       "</style>\n",
       "<table border=\"1\" class=\"dataframe\">\n",
       "  <thead>\n",
       "    <tr style=\"text-align: right;\">\n",
       "      <th></th>\n",
       "      <th>uid</th>\n",
       "      <th>churn</th>\n",
       "    </tr>\n",
       "  </thead>\n",
       "  <tbody>\n",
       "    <tr>\n",
       "      <th>0</th>\n",
       "      <td>u107120</td>\n",
       "      <td>0</td>\n",
       "    </tr>\n",
       "    <tr>\n",
       "      <th>1</th>\n",
       "      <td>u102277</td>\n",
       "      <td>0</td>\n",
       "    </tr>\n",
       "    <tr>\n",
       "      <th>2</th>\n",
       "      <td>u102444</td>\n",
       "      <td>0</td>\n",
       "    </tr>\n",
       "  </tbody>\n",
       "</table>\n",
       "</div>"
      ],
      "text/plain": [
       "       uid  churn\n",
       "0  u107120      0\n",
       "1  u102277      0\n",
       "2  u102444      0"
      ]
     },
     "execution_count": 33,
     "metadata": {},
     "output_type": "execute_result"
    }
   ],
   "source": [
    "target = pd.read_csv(\"users_churn.csv\")\n",
    "target.head(3)"
   ]
  },
  {
   "cell_type": "code",
   "execution_count": 34,
   "metadata": {
    "colab": {
     "base_uri": "https://localhost:8080/",
     "height": 237
    },
    "id": "8QbVcdI4rO02",
    "outputId": "4ac0518d-2d7d-4c82-fb0d-55941a57fe50"
   },
   "outputs": [
    {
     "data": {
      "text/html": [
       "<div>\n",
       "<style scoped>\n",
       "    .dataframe tbody tr th:only-of-type {\n",
       "        vertical-align: middle;\n",
       "    }\n",
       "\n",
       "    .dataframe tbody tr th {\n",
       "        vertical-align: top;\n",
       "    }\n",
       "\n",
       "    .dataframe thead th {\n",
       "        text-align: right;\n",
       "    }\n",
       "</style>\n",
       "<table border=\"1\" class=\"dataframe\">\n",
       "  <thead>\n",
       "    <tr style=\"text-align: right;\">\n",
       "      <th></th>\n",
       "      <th>uid</th>\n",
       "      <th>topic_0</th>\n",
       "      <th>topic_1</th>\n",
       "      <th>topic_2</th>\n",
       "      <th>topic_3</th>\n",
       "      <th>topic_4</th>\n",
       "      <th>topic_5</th>\n",
       "      <th>topic_6</th>\n",
       "      <th>topic_7</th>\n",
       "      <th>topic_8</th>\n",
       "      <th>...</th>\n",
       "      <th>topic_11</th>\n",
       "      <th>topic_12</th>\n",
       "      <th>topic_13</th>\n",
       "      <th>topic_14</th>\n",
       "      <th>topic_15</th>\n",
       "      <th>topic_16</th>\n",
       "      <th>topic_17</th>\n",
       "      <th>topic_18</th>\n",
       "      <th>topic_19</th>\n",
       "      <th>churn</th>\n",
       "    </tr>\n",
       "  </thead>\n",
       "  <tbody>\n",
       "    <tr>\n",
       "      <th>0</th>\n",
       "      <td>u105138</td>\n",
       "      <td>0.069834</td>\n",
       "      <td>0.073194</td>\n",
       "      <td>0.001684</td>\n",
       "      <td>0.171123</td>\n",
       "      <td>0.028670</td>\n",
       "      <td>0.02118</td>\n",
       "      <td>0.011259</td>\n",
       "      <td>0.043017</td>\n",
       "      <td>0.041855</td>\n",
       "      <td>...</td>\n",
       "      <td>0.013875</td>\n",
       "      <td>0.032716</td>\n",
       "      <td>0.065652</td>\n",
       "      <td>0.066416</td>\n",
       "      <td>0.009809</td>\n",
       "      <td>0.003885</td>\n",
       "      <td>0.050716</td>\n",
       "      <td>0.000000</td>\n",
       "      <td>0.167724</td>\n",
       "      <td>0</td>\n",
       "    </tr>\n",
       "    <tr>\n",
       "      <th>1</th>\n",
       "      <td>u108690</td>\n",
       "      <td>0.091674</td>\n",
       "      <td>0.007837</td>\n",
       "      <td>0.000000</td>\n",
       "      <td>0.124768</td>\n",
       "      <td>0.007719</td>\n",
       "      <td>0.00000</td>\n",
       "      <td>0.003116</td>\n",
       "      <td>0.057677</td>\n",
       "      <td>0.009231</td>\n",
       "      <td>...</td>\n",
       "      <td>0.000000</td>\n",
       "      <td>0.045917</td>\n",
       "      <td>0.069954</td>\n",
       "      <td>0.117288</td>\n",
       "      <td>0.000000</td>\n",
       "      <td>0.014243</td>\n",
       "      <td>0.027973</td>\n",
       "      <td>0.000000</td>\n",
       "      <td>0.217594</td>\n",
       "      <td>1</td>\n",
       "    </tr>\n",
       "    <tr>\n",
       "      <th>2</th>\n",
       "      <td>u108339</td>\n",
       "      <td>0.166952</td>\n",
       "      <td>0.018631</td>\n",
       "      <td>0.001771</td>\n",
       "      <td>0.132959</td>\n",
       "      <td>0.009012</td>\n",
       "      <td>0.00000</td>\n",
       "      <td>0.022790</td>\n",
       "      <td>0.063165</td>\n",
       "      <td>0.034683</td>\n",
       "      <td>...</td>\n",
       "      <td>0.000000</td>\n",
       "      <td>0.037045</td>\n",
       "      <td>0.030145</td>\n",
       "      <td>0.076041</td>\n",
       "      <td>0.006060</td>\n",
       "      <td>0.010612</td>\n",
       "      <td>0.033517</td>\n",
       "      <td>0.015083</td>\n",
       "      <td>0.140295</td>\n",
       "      <td>1</td>\n",
       "    </tr>\n",
       "  </tbody>\n",
       "</table>\n",
       "<p>3 rows × 22 columns</p>\n",
       "</div>"
      ],
      "text/plain": [
       "       uid   topic_0   topic_1   topic_2   topic_3   topic_4  topic_5  \\\n",
       "0  u105138  0.069834  0.073194  0.001684  0.171123  0.028670  0.02118   \n",
       "1  u108690  0.091674  0.007837  0.000000  0.124768  0.007719  0.00000   \n",
       "2  u108339  0.166952  0.018631  0.001771  0.132959  0.009012  0.00000   \n",
       "\n",
       "    topic_6   topic_7   topic_8  ...  topic_11  topic_12  topic_13  topic_14  \\\n",
       "0  0.011259  0.043017  0.041855  ...  0.013875  0.032716  0.065652  0.066416   \n",
       "1  0.003116  0.057677  0.009231  ...  0.000000  0.045917  0.069954  0.117288   \n",
       "2  0.022790  0.063165  0.034683  ...  0.000000  0.037045  0.030145  0.076041   \n",
       "\n",
       "   topic_15  topic_16  topic_17  topic_18  topic_19  churn  \n",
       "0  0.009809  0.003885  0.050716  0.000000  0.167724      0  \n",
       "1  0.000000  0.014243  0.027973  0.000000  0.217594      1  \n",
       "2  0.006060  0.010612  0.033517  0.015083  0.140295      1  \n",
       "\n",
       "[3 rows x 22 columns]"
      ]
     },
     "execution_count": 34,
     "metadata": {},
     "output_type": "execute_result"
    }
   ],
   "source": [
    "X = pd.merge(user_embeddings, target, 'left')\n",
    "X.head(3)"
   ]
  },
  {
   "cell_type": "code",
   "execution_count": 35,
   "metadata": {
    "id": "U6c1-0YIrO02"
   },
   "outputs": [],
   "source": [
    "from sklearn.linear_model import LogisticRegression\n",
    "from sklearn.model_selection import train_test_split\n",
    "\n",
    "import matplotlib.pyplot as plt"
   ]
  },
  {
   "cell_type": "code",
   "execution_count": 36,
   "metadata": {
    "id": "aKNKOn9srO03"
   },
   "outputs": [],
   "source": [
    "# разделим данные на train/test\n",
    "X_train, X_test, y_train, y_test = train_test_split(X[[f'topic_{i}' for i in range(N_topic)]], \n",
    "                                                    X['churn'], random_state=0)"
   ]
  },
  {
   "cell_type": "code",
   "execution_count": 37,
   "metadata": {
    "colab": {
     "base_uri": "https://localhost:8080/"
    },
    "id": "8TujsSGprO04",
    "outputId": "7491b3eb-dae0-4619-bcf2-6d808217fa05"
   },
   "outputs": [
    {
     "data": {
      "text/plain": [
       "LogisticRegression()"
      ]
     },
     "execution_count": 37,
     "metadata": {},
     "output_type": "execute_result"
    }
   ],
   "source": [
    "model = LogisticRegression()\n",
    "# обучим \n",
    "model.fit(X_train, y_train)"
   ]
  },
  {
   "cell_type": "code",
   "execution_count": 38,
   "metadata": {
    "colab": {
     "base_uri": "https://localhost:8080/"
    },
    "id": "cB9Y-S0mrO06",
    "outputId": "80df0b86-16fd-4374-da9d-02fa25162f6f"
   },
   "outputs": [
    {
     "data": {
      "text/plain": [
       "array([0.14538148, 0.09475264, 0.39154336, 0.0775828 , 0.0919439 ,\n",
       "       0.04829628, 0.10124008, 0.00975223, 0.0711504 , 0.04643928])"
      ]
     },
     "execution_count": 38,
     "metadata": {},
     "output_type": "execute_result"
    }
   ],
   "source": [
    "# наши прогнозы для тестовой выборки\n",
    "preds = model.predict_proba(X_test)[:, 1]\n",
    "preds[:10]"
   ]
  },
  {
   "cell_type": "code",
   "execution_count": 39,
   "metadata": {
    "colab": {
     "base_uri": "https://localhost:8080/",
     "height": 49
    },
    "id": "zuUhS7DnzUS1",
    "outputId": "afe81baf-0846-41d3-985b-0f383aee2a78"
   },
   "outputs": [
    {
     "data": {
      "text/html": [
       "<div>\n",
       "<style scoped>\n",
       "    .dataframe tbody tr th:only-of-type {\n",
       "        vertical-align: middle;\n",
       "    }\n",
       "\n",
       "    .dataframe tbody tr th {\n",
       "        vertical-align: top;\n",
       "    }\n",
       "\n",
       "    .dataframe thead th {\n",
       "        text-align: right;\n",
       "    }\n",
       "</style>\n",
       "<table border=\"1\" class=\"dataframe\">\n",
       "  <thead>\n",
       "    <tr style=\"text-align: right;\">\n",
       "      <th></th>\n",
       "      <th>model</th>\n",
       "      <th>thresh</th>\n",
       "      <th>F-Score</th>\n",
       "      <th>Precision</th>\n",
       "      <th>Recall</th>\n",
       "      <th>ROC AUC</th>\n",
       "    </tr>\n",
       "  </thead>\n",
       "  <tbody>\n",
       "  </tbody>\n",
       "</table>\n",
       "</div>"
      ],
      "text/plain": [
       "Empty DataFrame\n",
       "Columns: [model, thresh, F-Score, Precision, Recall, ROC AUC]\n",
       "Index: []"
      ]
     },
     "execution_count": 39,
     "metadata": {},
     "output_type": "execute_result"
    }
   ],
   "source": [
    "metrics_df = pd.DataFrame(columns=['model', 'thresh', 'F-Score', 'Precision', 'Recall', 'ROC AUC'])\n",
    "metrics_df"
   ]
  },
  {
   "cell_type": "code",
   "execution_count": 40,
   "metadata": {
    "id": "UjowyVO6zIRV"
   },
   "outputs": [],
   "source": [
    "from sklearn.metrics import (f1_score, roc_auc_score, precision_score,\n",
    "                             classification_report, precision_recall_curve, confusion_matrix)"
   ]
  },
  {
   "cell_type": "code",
   "execution_count": 41,
   "metadata": {
    "colab": {
     "base_uri": "https://localhost:8080/"
    },
    "id": "YnQ-r2bTzLpK",
    "outputId": "130d9023-0710-4bed-a43b-87730b24d912"
   },
   "outputs": [
    {
     "name": "stdout",
     "output_type": "stream",
     "text": [
      "Best Threshold=0.29593400926819835, F-Score=0.711, Precision=0.768, Recall=0.661\n"
     ]
    }
   ],
   "source": [
    "precision, recall, thresholds = precision_recall_curve(y_test, preds)\n",
    "fscore = (2 * precision * recall) / (precision + recall)\n",
    "# locate the index of the largest f score\n",
    "ix = np.argmax(fscore)\n",
    "print(f'Best Threshold={thresholds[ix]}, F-Score={fscore[ix]:.3f}, Precision={precision[ix]:.3f}, Recall={recall[ix]:.3f}')                                                                        "
   ]
  },
  {
   "cell_type": "code",
   "execution_count": 42,
   "metadata": {
    "colab": {
     "base_uri": "https://localhost:8080/"
    },
    "id": "B6zvvGO2zg_Q",
    "outputId": "940a6fe8-82e3-4156-cf70-79e80bb71c5f"
   },
   "outputs": [
    {
     "data": {
      "text/plain": [
       "0.9547345775917204"
      ]
     },
     "execution_count": 42,
     "metadata": {},
     "output_type": "execute_result"
    }
   ],
   "source": [
    "roc_auc = roc_auc_score(y_test, preds)\n",
    "roc_auc"
   ]
  },
  {
   "cell_type": "code",
   "execution_count": 43,
   "metadata": {
    "colab": {
     "base_uri": "https://localhost:8080/",
     "height": 81
    },
    "id": "YXbr8QAfzio1",
    "outputId": "cb4549ff-5b71-4fe0-a1cd-652d5ee22695"
   },
   "outputs": [
    {
     "name": "stderr",
     "output_type": "stream",
     "text": [
      "/tmp/ipykernel_5214/1288159249.py:1: FutureWarning: The frame.append method is deprecated and will be removed from pandas in a future version. Use pandas.concat instead.\n",
      "  metrics_df = metrics_df.append({\n"
     ]
    },
    {
     "data": {
      "text/html": [
       "<div>\n",
       "<style scoped>\n",
       "    .dataframe tbody tr th:only-of-type {\n",
       "        vertical-align: middle;\n",
       "    }\n",
       "\n",
       "    .dataframe tbody tr th {\n",
       "        vertical-align: top;\n",
       "    }\n",
       "\n",
       "    .dataframe thead th {\n",
       "        text-align: right;\n",
       "    }\n",
       "</style>\n",
       "<table border=\"1\" class=\"dataframe\">\n",
       "  <thead>\n",
       "    <tr style=\"text-align: right;\">\n",
       "      <th></th>\n",
       "      <th>model</th>\n",
       "      <th>thresh</th>\n",
       "      <th>F-Score</th>\n",
       "      <th>Precision</th>\n",
       "      <th>Recall</th>\n",
       "      <th>ROC AUC</th>\n",
       "    </tr>\n",
       "  </thead>\n",
       "  <tbody>\n",
       "    <tr>\n",
       "      <th>0</th>\n",
       "      <td>mean</td>\n",
       "      <td>0.295934</td>\n",
       "      <td>0.710526</td>\n",
       "      <td>0.767773</td>\n",
       "      <td>0.661224</td>\n",
       "      <td>0.954735</td>\n",
       "    </tr>\n",
       "  </tbody>\n",
       "</table>\n",
       "</div>"
      ],
      "text/plain": [
       "  model    thresh   F-Score Precision    Recall   ROC AUC\n",
       "0  mean  0.295934  0.710526  0.767773  0.661224  0.954735"
      ]
     },
     "execution_count": 43,
     "metadata": {},
     "output_type": "execute_result"
    }
   ],
   "source": [
    "metrics_df = metrics_df.append({\n",
    "    'model': FUNC.__name__,\n",
    "    'thresh': thresholds[ix],\n",
    "    'F-Score': fscore[ix],\n",
    "    'Precision': precision[ix],\n",
    "    'Recall': recall[ix],\n",
    "    'ROC AUC': roc_auc\n",
    "}, ignore_index=True)\n",
    "\n",
    "metrics_df"
   ]
  },
  {
   "cell_type": "markdown",
   "metadata": {
    "id": "4QrUKrld0X-s"
   },
   "source": [
    "2. Модифицировать код функции get_user_embedding таким образом, чтобы считалось не среднее (как в примере np.mean), а медиана. Применить такое преобразование к данным, обучить модель прогнозирования оттока и посчитать метрики качества и сохранить их: roc auc, precision/recall/f_score (для 3 последних - подобрать оптимальный порог)"
   ]
  },
  {
   "cell_type": "code",
   "execution_count": 44,
   "metadata": {
    "id": "6-Yb6nVR1PKq"
   },
   "outputs": [],
   "source": [
    "FUNC = np.median"
   ]
  },
  {
   "cell_type": "code",
   "execution_count": 45,
   "metadata": {
    "colab": {
     "base_uri": "https://localhost:8080/",
     "height": 237
    },
    "id": "3teSEcIv0on6",
    "outputId": "aafdda8a-20f3-4102-db53-7ec71d4d0e90"
   },
   "outputs": [
    {
     "data": {
      "text/html": [
       "<div>\n",
       "<style scoped>\n",
       "    .dataframe tbody tr th:only-of-type {\n",
       "        vertical-align: middle;\n",
       "    }\n",
       "\n",
       "    .dataframe tbody tr th {\n",
       "        vertical-align: top;\n",
       "    }\n",
       "\n",
       "    .dataframe thead th {\n",
       "        text-align: right;\n",
       "    }\n",
       "</style>\n",
       "<table border=\"1\" class=\"dataframe\">\n",
       "  <thead>\n",
       "    <tr style=\"text-align: right;\">\n",
       "      <th></th>\n",
       "      <th>uid</th>\n",
       "      <th>topic_0</th>\n",
       "      <th>topic_1</th>\n",
       "      <th>topic_2</th>\n",
       "      <th>topic_3</th>\n",
       "      <th>topic_4</th>\n",
       "      <th>topic_5</th>\n",
       "      <th>topic_6</th>\n",
       "      <th>topic_7</th>\n",
       "      <th>topic_8</th>\n",
       "      <th>...</th>\n",
       "      <th>topic_10</th>\n",
       "      <th>topic_11</th>\n",
       "      <th>topic_12</th>\n",
       "      <th>topic_13</th>\n",
       "      <th>topic_14</th>\n",
       "      <th>topic_15</th>\n",
       "      <th>topic_16</th>\n",
       "      <th>topic_17</th>\n",
       "      <th>topic_18</th>\n",
       "      <th>topic_19</th>\n",
       "    </tr>\n",
       "  </thead>\n",
       "  <tbody>\n",
       "    <tr>\n",
       "      <th>0</th>\n",
       "      <td>u105138</td>\n",
       "      <td>0.042432</td>\n",
       "      <td>0.088969</td>\n",
       "      <td>0.0</td>\n",
       "      <td>0.130486</td>\n",
       "      <td>0.006121</td>\n",
       "      <td>0.0</td>\n",
       "      <td>0.000000</td>\n",
       "      <td>0.000000</td>\n",
       "      <td>0.000000</td>\n",
       "      <td>...</td>\n",
       "      <td>0.013098</td>\n",
       "      <td>0.0</td>\n",
       "      <td>0.012679</td>\n",
       "      <td>0.023453</td>\n",
       "      <td>0.049565</td>\n",
       "      <td>0.0</td>\n",
       "      <td>0.000000</td>\n",
       "      <td>0.000000</td>\n",
       "      <td>0.000000</td>\n",
       "      <td>0.039383</td>\n",
       "    </tr>\n",
       "    <tr>\n",
       "      <th>1</th>\n",
       "      <td>u108690</td>\n",
       "      <td>0.063534</td>\n",
       "      <td>0.000000</td>\n",
       "      <td>0.0</td>\n",
       "      <td>0.127243</td>\n",
       "      <td>0.000000</td>\n",
       "      <td>0.0</td>\n",
       "      <td>0.000000</td>\n",
       "      <td>0.017704</td>\n",
       "      <td>0.005594</td>\n",
       "      <td>...</td>\n",
       "      <td>0.077697</td>\n",
       "      <td>0.0</td>\n",
       "      <td>0.041811</td>\n",
       "      <td>0.039392</td>\n",
       "      <td>0.109892</td>\n",
       "      <td>0.0</td>\n",
       "      <td>0.000000</td>\n",
       "      <td>0.000000</td>\n",
       "      <td>0.000000</td>\n",
       "      <td>0.251280</td>\n",
       "    </tr>\n",
       "    <tr>\n",
       "      <th>2</th>\n",
       "      <td>u108339</td>\n",
       "      <td>0.174615</td>\n",
       "      <td>0.000000</td>\n",
       "      <td>0.0</td>\n",
       "      <td>0.099853</td>\n",
       "      <td>0.000000</td>\n",
       "      <td>0.0</td>\n",
       "      <td>0.024886</td>\n",
       "      <td>0.046004</td>\n",
       "      <td>0.005548</td>\n",
       "      <td>...</td>\n",
       "      <td>0.115401</td>\n",
       "      <td>0.0</td>\n",
       "      <td>0.010157</td>\n",
       "      <td>0.032564</td>\n",
       "      <td>0.057061</td>\n",
       "      <td>0.0</td>\n",
       "      <td>0.007285</td>\n",
       "      <td>0.011049</td>\n",
       "      <td>0.013611</td>\n",
       "      <td>0.155236</td>\n",
       "    </tr>\n",
       "  </tbody>\n",
       "</table>\n",
       "<p>3 rows × 21 columns</p>\n",
       "</div>"
      ],
      "text/plain": [
       "       uid   topic_0   topic_1  topic_2   topic_3   topic_4  topic_5  \\\n",
       "0  u105138  0.042432  0.088969      0.0  0.130486  0.006121      0.0   \n",
       "1  u108690  0.063534  0.000000      0.0  0.127243  0.000000      0.0   \n",
       "2  u108339  0.174615  0.000000      0.0  0.099853  0.000000      0.0   \n",
       "\n",
       "    topic_6   topic_7   topic_8  ...  topic_10  topic_11  topic_12  topic_13  \\\n",
       "0  0.000000  0.000000  0.000000  ...  0.013098       0.0  0.012679  0.023453   \n",
       "1  0.000000  0.017704  0.005594  ...  0.077697       0.0  0.041811  0.039392   \n",
       "2  0.024886  0.046004  0.005548  ...  0.115401       0.0  0.010157  0.032564   \n",
       "\n",
       "   topic_14  topic_15  topic_16  topic_17  topic_18  topic_19  \n",
       "0  0.049565       0.0  0.000000  0.000000  0.000000  0.039383  \n",
       "1  0.109892       0.0  0.000000  0.000000  0.000000  0.251280  \n",
       "2  0.057061       0.0  0.007285  0.011049  0.013611  0.155236  \n",
       "\n",
       "[3 rows x 21 columns]"
      ]
     },
     "execution_count": 45,
     "metadata": {},
     "output_type": "execute_result"
    }
   ],
   "source": [
    "user_embeddings = pd.DataFrame([i for i in users['articles'].apply(lambda x: get_user_embedding(x, doc_dict, FUNC))])\n",
    "user_embeddings.columns = [f'topic_{i}' for i in range(N_topic)]\n",
    "user_embeddings['uid'] = users['uid'].values\n",
    "user_embeddings = user_embeddings[['uid']+[f'topic_{i}' for i in range(N_topic)]]\n",
    "user_embeddings.head(3)"
   ]
  },
  {
   "cell_type": "code",
   "execution_count": 46,
   "metadata": {
    "colab": {
     "base_uri": "https://localhost:8080/",
     "height": 237
    },
    "id": "Zn5fipYl0ooJ",
    "outputId": "5538ae37-b58f-4e2a-ce45-c871dea0986b"
   },
   "outputs": [
    {
     "data": {
      "text/html": [
       "<div>\n",
       "<style scoped>\n",
       "    .dataframe tbody tr th:only-of-type {\n",
       "        vertical-align: middle;\n",
       "    }\n",
       "\n",
       "    .dataframe tbody tr th {\n",
       "        vertical-align: top;\n",
       "    }\n",
       "\n",
       "    .dataframe thead th {\n",
       "        text-align: right;\n",
       "    }\n",
       "</style>\n",
       "<table border=\"1\" class=\"dataframe\">\n",
       "  <thead>\n",
       "    <tr style=\"text-align: right;\">\n",
       "      <th></th>\n",
       "      <th>uid</th>\n",
       "      <th>topic_0</th>\n",
       "      <th>topic_1</th>\n",
       "      <th>topic_2</th>\n",
       "      <th>topic_3</th>\n",
       "      <th>topic_4</th>\n",
       "      <th>topic_5</th>\n",
       "      <th>topic_6</th>\n",
       "      <th>topic_7</th>\n",
       "      <th>topic_8</th>\n",
       "      <th>...</th>\n",
       "      <th>topic_11</th>\n",
       "      <th>topic_12</th>\n",
       "      <th>topic_13</th>\n",
       "      <th>topic_14</th>\n",
       "      <th>topic_15</th>\n",
       "      <th>topic_16</th>\n",
       "      <th>topic_17</th>\n",
       "      <th>topic_18</th>\n",
       "      <th>topic_19</th>\n",
       "      <th>churn</th>\n",
       "    </tr>\n",
       "  </thead>\n",
       "  <tbody>\n",
       "    <tr>\n",
       "      <th>0</th>\n",
       "      <td>u105138</td>\n",
       "      <td>0.042432</td>\n",
       "      <td>0.088969</td>\n",
       "      <td>0.0</td>\n",
       "      <td>0.130486</td>\n",
       "      <td>0.006121</td>\n",
       "      <td>0.0</td>\n",
       "      <td>0.000000</td>\n",
       "      <td>0.000000</td>\n",
       "      <td>0.000000</td>\n",
       "      <td>...</td>\n",
       "      <td>0.0</td>\n",
       "      <td>0.012679</td>\n",
       "      <td>0.023453</td>\n",
       "      <td>0.049565</td>\n",
       "      <td>0.0</td>\n",
       "      <td>0.000000</td>\n",
       "      <td>0.000000</td>\n",
       "      <td>0.000000</td>\n",
       "      <td>0.039383</td>\n",
       "      <td>0</td>\n",
       "    </tr>\n",
       "    <tr>\n",
       "      <th>1</th>\n",
       "      <td>u108690</td>\n",
       "      <td>0.063534</td>\n",
       "      <td>0.000000</td>\n",
       "      <td>0.0</td>\n",
       "      <td>0.127243</td>\n",
       "      <td>0.000000</td>\n",
       "      <td>0.0</td>\n",
       "      <td>0.000000</td>\n",
       "      <td>0.017704</td>\n",
       "      <td>0.005594</td>\n",
       "      <td>...</td>\n",
       "      <td>0.0</td>\n",
       "      <td>0.041811</td>\n",
       "      <td>0.039392</td>\n",
       "      <td>0.109892</td>\n",
       "      <td>0.0</td>\n",
       "      <td>0.000000</td>\n",
       "      <td>0.000000</td>\n",
       "      <td>0.000000</td>\n",
       "      <td>0.251280</td>\n",
       "      <td>1</td>\n",
       "    </tr>\n",
       "    <tr>\n",
       "      <th>2</th>\n",
       "      <td>u108339</td>\n",
       "      <td>0.174615</td>\n",
       "      <td>0.000000</td>\n",
       "      <td>0.0</td>\n",
       "      <td>0.099853</td>\n",
       "      <td>0.000000</td>\n",
       "      <td>0.0</td>\n",
       "      <td>0.024886</td>\n",
       "      <td>0.046004</td>\n",
       "      <td>0.005548</td>\n",
       "      <td>...</td>\n",
       "      <td>0.0</td>\n",
       "      <td>0.010157</td>\n",
       "      <td>0.032564</td>\n",
       "      <td>0.057061</td>\n",
       "      <td>0.0</td>\n",
       "      <td>0.007285</td>\n",
       "      <td>0.011049</td>\n",
       "      <td>0.013611</td>\n",
       "      <td>0.155236</td>\n",
       "      <td>1</td>\n",
       "    </tr>\n",
       "  </tbody>\n",
       "</table>\n",
       "<p>3 rows × 22 columns</p>\n",
       "</div>"
      ],
      "text/plain": [
       "       uid   topic_0   topic_1  topic_2   topic_3   topic_4  topic_5  \\\n",
       "0  u105138  0.042432  0.088969      0.0  0.130486  0.006121      0.0   \n",
       "1  u108690  0.063534  0.000000      0.0  0.127243  0.000000      0.0   \n",
       "2  u108339  0.174615  0.000000      0.0  0.099853  0.000000      0.0   \n",
       "\n",
       "    topic_6   topic_7   topic_8  ...  topic_11  topic_12  topic_13  topic_14  \\\n",
       "0  0.000000  0.000000  0.000000  ...       0.0  0.012679  0.023453  0.049565   \n",
       "1  0.000000  0.017704  0.005594  ...       0.0  0.041811  0.039392  0.109892   \n",
       "2  0.024886  0.046004  0.005548  ...       0.0  0.010157  0.032564  0.057061   \n",
       "\n",
       "   topic_15  topic_16  topic_17  topic_18  topic_19  churn  \n",
       "0       0.0  0.000000  0.000000  0.000000  0.039383      0  \n",
       "1       0.0  0.000000  0.000000  0.000000  0.251280      1  \n",
       "2       0.0  0.007285  0.011049  0.013611  0.155236      1  \n",
       "\n",
       "[3 rows x 22 columns]"
      ]
     },
     "execution_count": 46,
     "metadata": {},
     "output_type": "execute_result"
    }
   ],
   "source": [
    "X = pd.merge(user_embeddings, target, 'left')\n",
    "X.head(3)"
   ]
  },
  {
   "cell_type": "code",
   "execution_count": 47,
   "metadata": {
    "id": "mH1iExY30ooQ"
   },
   "outputs": [],
   "source": [
    "# разделим данные на train/test\n",
    "X_train, X_test, y_train, y_test = train_test_split(X[[f'topic_{i}' for i in range(N_topic)]], \n",
    "                                                    X['churn'], random_state=0)"
   ]
  },
  {
   "cell_type": "code",
   "execution_count": 48,
   "metadata": {
    "colab": {
     "base_uri": "https://localhost:8080/"
    },
    "id": "wOUAh5mx0ooR",
    "outputId": "9ea9dc40-584b-4f92-be47-5e6622d0cbad"
   },
   "outputs": [
    {
     "data": {
      "text/plain": [
       "LogisticRegression()"
      ]
     },
     "execution_count": 48,
     "metadata": {},
     "output_type": "execute_result"
    }
   ],
   "source": [
    "model = LogisticRegression()\n",
    "# обучим \n",
    "model.fit(X_train, y_train)"
   ]
  },
  {
   "cell_type": "code",
   "execution_count": 49,
   "metadata": {
    "colab": {
     "base_uri": "https://localhost:8080/"
    },
    "id": "91dSORNX0ooT",
    "outputId": "45911228-123c-4d5d-9353-dd4a39812ac4"
   },
   "outputs": [
    {
     "data": {
      "text/plain": [
       "array([0.15693685, 0.08732769, 0.44936413, 0.07216443, 0.16276508,\n",
       "       0.04534599, 0.0318609 , 0.01065242, 0.02812988, 0.08706345])"
      ]
     },
     "execution_count": 49,
     "metadata": {},
     "output_type": "execute_result"
    }
   ],
   "source": [
    "# наши прогнозы для тестовой выборки\n",
    "preds = model.predict_proba(X_test)[:, 1]\n",
    "preds[:10]"
   ]
  },
  {
   "cell_type": "code",
   "execution_count": 50,
   "metadata": {
    "colab": {
     "base_uri": "https://localhost:8080/"
    },
    "id": "f_YwZ2My0ooZ",
    "outputId": "27dd51b0-418c-48af-c8ef-5f28a2d4d9a8"
   },
   "outputs": [
    {
     "name": "stdout",
     "output_type": "stream",
     "text": [
      "Best Threshold=0.24825894164414358, F-Score=0.786, Precision=0.734, Recall=0.845\n"
     ]
    }
   ],
   "source": [
    "precision, recall, thresholds = precision_recall_curve(y_test, preds)\n",
    "fscore = (2 * precision * recall) / (precision + recall)\n",
    "# locate the index of the largest f score\n",
    "ix = np.argmax(fscore)\n",
    "print(f'Best Threshold={thresholds[ix]}, F-Score={fscore[ix]:.3f}, Precision={precision[ix]:.3f}, Recall={recall[ix]:.3f}')                                                                        "
   ]
  },
  {
   "cell_type": "code",
   "execution_count": 51,
   "metadata": {
    "colab": {
     "base_uri": "https://localhost:8080/"
    },
    "id": "94RGv1N30ooc",
    "outputId": "86b33d42-6bbb-4471-a4d2-07a17de827a8"
   },
   "outputs": [
    {
     "data": {
      "text/plain": [
       "0.9753404267689982"
      ]
     },
     "execution_count": 51,
     "metadata": {},
     "output_type": "execute_result"
    }
   ],
   "source": [
    "roc_auc = roc_auc_score(y_test, preds)\n",
    "roc_auc"
   ]
  },
  {
   "cell_type": "code",
   "execution_count": 52,
   "metadata": {
    "colab": {
     "base_uri": "https://localhost:8080/",
     "height": 112
    },
    "id": "1oL_It1u0ooe",
    "outputId": "36ea0d3f-52ce-4a4f-9187-65db6976bba8"
   },
   "outputs": [
    {
     "name": "stderr",
     "output_type": "stream",
     "text": [
      "/tmp/ipykernel_5214/1288159249.py:1: FutureWarning: The frame.append method is deprecated and will be removed from pandas in a future version. Use pandas.concat instead.\n",
      "  metrics_df = metrics_df.append({\n"
     ]
    },
    {
     "data": {
      "text/html": [
       "<div>\n",
       "<style scoped>\n",
       "    .dataframe tbody tr th:only-of-type {\n",
       "        vertical-align: middle;\n",
       "    }\n",
       "\n",
       "    .dataframe tbody tr th {\n",
       "        vertical-align: top;\n",
       "    }\n",
       "\n",
       "    .dataframe thead th {\n",
       "        text-align: right;\n",
       "    }\n",
       "</style>\n",
       "<table border=\"1\" class=\"dataframe\">\n",
       "  <thead>\n",
       "    <tr style=\"text-align: right;\">\n",
       "      <th></th>\n",
       "      <th>model</th>\n",
       "      <th>thresh</th>\n",
       "      <th>F-Score</th>\n",
       "      <th>Precision</th>\n",
       "      <th>Recall</th>\n",
       "      <th>ROC AUC</th>\n",
       "    </tr>\n",
       "  </thead>\n",
       "  <tbody>\n",
       "    <tr>\n",
       "      <th>0</th>\n",
       "      <td>mean</td>\n",
       "      <td>0.295934</td>\n",
       "      <td>0.710526</td>\n",
       "      <td>0.767773</td>\n",
       "      <td>0.661224</td>\n",
       "      <td>0.954735</td>\n",
       "    </tr>\n",
       "    <tr>\n",
       "      <th>1</th>\n",
       "      <td>median</td>\n",
       "      <td>0.248259</td>\n",
       "      <td>0.785579</td>\n",
       "      <td>0.734043</td>\n",
       "      <td>0.844898</td>\n",
       "      <td>0.97534</td>\n",
       "    </tr>\n",
       "  </tbody>\n",
       "</table>\n",
       "</div>"
      ],
      "text/plain": [
       "    model    thresh   F-Score Precision    Recall   ROC AUC\n",
       "0    mean  0.295934  0.710526  0.767773  0.661224  0.954735\n",
       "1  median  0.248259  0.785579  0.734043  0.844898   0.97534"
      ]
     },
     "execution_count": 52,
     "metadata": {},
     "output_type": "execute_result"
    }
   ],
   "source": [
    "metrics_df = metrics_df.append({\n",
    "    'model': FUNC.__name__,\n",
    "    'thresh': thresholds[ix],\n",
    "    'F-Score': fscore[ix],\n",
    "    'Precision': precision[ix],\n",
    "    'Recall': recall[ix],\n",
    "    'ROC AUC': roc_auc\n",
    "}, ignore_index=True)\n",
    "\n",
    "metrics_df"
   ]
  },
  {
   "cell_type": "markdown",
   "metadata": {
    "id": "OcIDYCzn1Vpq"
   },
   "source": [
    "\n",
    "3. Повторить п.2, но используя уже не медиану, а max\n"
   ]
  },
  {
   "cell_type": "code",
   "execution_count": 53,
   "metadata": {
    "id": "tDQNVl-t1Yho"
   },
   "outputs": [],
   "source": [
    "FUNC = np.max"
   ]
  },
  {
   "cell_type": "code",
   "execution_count": 54,
   "metadata": {
    "colab": {
     "base_uri": "https://localhost:8080/",
     "height": 237
    },
    "id": "uTetZfZj1Yhp",
    "outputId": "71c0939a-7705-44e5-fe2c-f49e9159fc7f"
   },
   "outputs": [
    {
     "data": {
      "text/html": [
       "<div>\n",
       "<style scoped>\n",
       "    .dataframe tbody tr th:only-of-type {\n",
       "        vertical-align: middle;\n",
       "    }\n",
       "\n",
       "    .dataframe tbody tr th {\n",
       "        vertical-align: top;\n",
       "    }\n",
       "\n",
       "    .dataframe thead th {\n",
       "        text-align: right;\n",
       "    }\n",
       "</style>\n",
       "<table border=\"1\" class=\"dataframe\">\n",
       "  <thead>\n",
       "    <tr style=\"text-align: right;\">\n",
       "      <th></th>\n",
       "      <th>uid</th>\n",
       "      <th>topic_0</th>\n",
       "      <th>topic_1</th>\n",
       "      <th>topic_2</th>\n",
       "      <th>topic_3</th>\n",
       "      <th>topic_4</th>\n",
       "      <th>topic_5</th>\n",
       "      <th>topic_6</th>\n",
       "      <th>topic_7</th>\n",
       "      <th>topic_8</th>\n",
       "      <th>...</th>\n",
       "      <th>topic_10</th>\n",
       "      <th>topic_11</th>\n",
       "      <th>topic_12</th>\n",
       "      <th>topic_13</th>\n",
       "      <th>topic_14</th>\n",
       "      <th>topic_15</th>\n",
       "      <th>topic_16</th>\n",
       "      <th>topic_17</th>\n",
       "      <th>topic_18</th>\n",
       "      <th>topic_19</th>\n",
       "    </tr>\n",
       "  </thead>\n",
       "  <tbody>\n",
       "    <tr>\n",
       "      <th>0</th>\n",
       "      <td>u105138</td>\n",
       "      <td>0.181264</td>\n",
       "      <td>0.134439</td>\n",
       "      <td>0.010102</td>\n",
       "      <td>0.442625</td>\n",
       "      <td>0.081164</td>\n",
       "      <td>0.127079</td>\n",
       "      <td>0.049729</td>\n",
       "      <td>0.151493</td>\n",
       "      <td>0.151510</td>\n",
       "      <td>...</td>\n",
       "      <td>0.214949</td>\n",
       "      <td>0.083252</td>\n",
       "      <td>0.142651</td>\n",
       "      <td>0.187109</td>\n",
       "      <td>0.198444</td>\n",
       "      <td>0.058853</td>\n",
       "      <td>0.023309</td>\n",
       "      <td>0.304297</td>\n",
       "      <td>0.000000</td>\n",
       "      <td>0.514025</td>\n",
       "    </tr>\n",
       "    <tr>\n",
       "      <th>1</th>\n",
       "      <td>u108690</td>\n",
       "      <td>0.272069</td>\n",
       "      <td>0.036135</td>\n",
       "      <td>0.000000</td>\n",
       "      <td>0.172792</td>\n",
       "      <td>0.046316</td>\n",
       "      <td>0.000000</td>\n",
       "      <td>0.018699</td>\n",
       "      <td>0.190142</td>\n",
       "      <td>0.031342</td>\n",
       "      <td>...</td>\n",
       "      <td>0.131403</td>\n",
       "      <td>0.000000</td>\n",
       "      <td>0.109922</td>\n",
       "      <td>0.179873</td>\n",
       "      <td>0.163976</td>\n",
       "      <td>0.000000</td>\n",
       "      <td>0.085459</td>\n",
       "      <td>0.137487</td>\n",
       "      <td>0.000000</td>\n",
       "      <td>0.309089</td>\n",
       "    </tr>\n",
       "    <tr>\n",
       "      <th>2</th>\n",
       "      <td>u108339</td>\n",
       "      <td>0.287615</td>\n",
       "      <td>0.086593</td>\n",
       "      <td>0.010627</td>\n",
       "      <td>0.256235</td>\n",
       "      <td>0.033503</td>\n",
       "      <td>0.000000</td>\n",
       "      <td>0.057842</td>\n",
       "      <td>0.218546</td>\n",
       "      <td>0.118557</td>\n",
       "      <td>...</td>\n",
       "      <td>0.172222</td>\n",
       "      <td>0.000000</td>\n",
       "      <td>0.107626</td>\n",
       "      <td>0.059818</td>\n",
       "      <td>0.182798</td>\n",
       "      <td>0.036359</td>\n",
       "      <td>0.026723</td>\n",
       "      <td>0.098255</td>\n",
       "      <td>0.045184</td>\n",
       "      <td>0.266285</td>\n",
       "    </tr>\n",
       "  </tbody>\n",
       "</table>\n",
       "<p>3 rows × 21 columns</p>\n",
       "</div>"
      ],
      "text/plain": [
       "       uid   topic_0   topic_1   topic_2   topic_3   topic_4   topic_5  \\\n",
       "0  u105138  0.181264  0.134439  0.010102  0.442625  0.081164  0.127079   \n",
       "1  u108690  0.272069  0.036135  0.000000  0.172792  0.046316  0.000000   \n",
       "2  u108339  0.287615  0.086593  0.010627  0.256235  0.033503  0.000000   \n",
       "\n",
       "    topic_6   topic_7   topic_8  ...  topic_10  topic_11  topic_12  topic_13  \\\n",
       "0  0.049729  0.151493  0.151510  ...  0.214949  0.083252  0.142651  0.187109   \n",
       "1  0.018699  0.190142  0.031342  ...  0.131403  0.000000  0.109922  0.179873   \n",
       "2  0.057842  0.218546  0.118557  ...  0.172222  0.000000  0.107626  0.059818   \n",
       "\n",
       "   topic_14  topic_15  topic_16  topic_17  topic_18  topic_19  \n",
       "0  0.198444  0.058853  0.023309  0.304297  0.000000  0.514025  \n",
       "1  0.163976  0.000000  0.085459  0.137487  0.000000  0.309089  \n",
       "2  0.182798  0.036359  0.026723  0.098255  0.045184  0.266285  \n",
       "\n",
       "[3 rows x 21 columns]"
      ]
     },
     "execution_count": 54,
     "metadata": {},
     "output_type": "execute_result"
    }
   ],
   "source": [
    "user_embeddings = pd.DataFrame([i for i in users['articles'].apply(lambda x: get_user_embedding(x, doc_dict, FUNC))])\n",
    "user_embeddings.columns = [f'topic_{i}' for i in range(N_topic)]\n",
    "user_embeddings['uid'] = users['uid'].values\n",
    "user_embeddings = user_embeddings[['uid']+[f'topic_{i}' for i in range(N_topic)]]\n",
    "user_embeddings.head(3)"
   ]
  },
  {
   "cell_type": "code",
   "execution_count": 55,
   "metadata": {
    "colab": {
     "base_uri": "https://localhost:8080/",
     "height": 237
    },
    "id": "Elp9rH-31Yhr",
    "outputId": "b033f559-d89e-43f1-8002-c29371f99db1"
   },
   "outputs": [
    {
     "data": {
      "text/html": [
       "<div>\n",
       "<style scoped>\n",
       "    .dataframe tbody tr th:only-of-type {\n",
       "        vertical-align: middle;\n",
       "    }\n",
       "\n",
       "    .dataframe tbody tr th {\n",
       "        vertical-align: top;\n",
       "    }\n",
       "\n",
       "    .dataframe thead th {\n",
       "        text-align: right;\n",
       "    }\n",
       "</style>\n",
       "<table border=\"1\" class=\"dataframe\">\n",
       "  <thead>\n",
       "    <tr style=\"text-align: right;\">\n",
       "      <th></th>\n",
       "      <th>uid</th>\n",
       "      <th>topic_0</th>\n",
       "      <th>topic_1</th>\n",
       "      <th>topic_2</th>\n",
       "      <th>topic_3</th>\n",
       "      <th>topic_4</th>\n",
       "      <th>topic_5</th>\n",
       "      <th>topic_6</th>\n",
       "      <th>topic_7</th>\n",
       "      <th>topic_8</th>\n",
       "      <th>...</th>\n",
       "      <th>topic_11</th>\n",
       "      <th>topic_12</th>\n",
       "      <th>topic_13</th>\n",
       "      <th>topic_14</th>\n",
       "      <th>topic_15</th>\n",
       "      <th>topic_16</th>\n",
       "      <th>topic_17</th>\n",
       "      <th>topic_18</th>\n",
       "      <th>topic_19</th>\n",
       "      <th>churn</th>\n",
       "    </tr>\n",
       "  </thead>\n",
       "  <tbody>\n",
       "    <tr>\n",
       "      <th>0</th>\n",
       "      <td>u105138</td>\n",
       "      <td>0.181264</td>\n",
       "      <td>0.134439</td>\n",
       "      <td>0.010102</td>\n",
       "      <td>0.442625</td>\n",
       "      <td>0.081164</td>\n",
       "      <td>0.127079</td>\n",
       "      <td>0.049729</td>\n",
       "      <td>0.151493</td>\n",
       "      <td>0.151510</td>\n",
       "      <td>...</td>\n",
       "      <td>0.083252</td>\n",
       "      <td>0.142651</td>\n",
       "      <td>0.187109</td>\n",
       "      <td>0.198444</td>\n",
       "      <td>0.058853</td>\n",
       "      <td>0.023309</td>\n",
       "      <td>0.304297</td>\n",
       "      <td>0.000000</td>\n",
       "      <td>0.514025</td>\n",
       "      <td>0</td>\n",
       "    </tr>\n",
       "    <tr>\n",
       "      <th>1</th>\n",
       "      <td>u108690</td>\n",
       "      <td>0.272069</td>\n",
       "      <td>0.036135</td>\n",
       "      <td>0.000000</td>\n",
       "      <td>0.172792</td>\n",
       "      <td>0.046316</td>\n",
       "      <td>0.000000</td>\n",
       "      <td>0.018699</td>\n",
       "      <td>0.190142</td>\n",
       "      <td>0.031342</td>\n",
       "      <td>...</td>\n",
       "      <td>0.000000</td>\n",
       "      <td>0.109922</td>\n",
       "      <td>0.179873</td>\n",
       "      <td>0.163976</td>\n",
       "      <td>0.000000</td>\n",
       "      <td>0.085459</td>\n",
       "      <td>0.137487</td>\n",
       "      <td>0.000000</td>\n",
       "      <td>0.309089</td>\n",
       "      <td>1</td>\n",
       "    </tr>\n",
       "    <tr>\n",
       "      <th>2</th>\n",
       "      <td>u108339</td>\n",
       "      <td>0.287615</td>\n",
       "      <td>0.086593</td>\n",
       "      <td>0.010627</td>\n",
       "      <td>0.256235</td>\n",
       "      <td>0.033503</td>\n",
       "      <td>0.000000</td>\n",
       "      <td>0.057842</td>\n",
       "      <td>0.218546</td>\n",
       "      <td>0.118557</td>\n",
       "      <td>...</td>\n",
       "      <td>0.000000</td>\n",
       "      <td>0.107626</td>\n",
       "      <td>0.059818</td>\n",
       "      <td>0.182798</td>\n",
       "      <td>0.036359</td>\n",
       "      <td>0.026723</td>\n",
       "      <td>0.098255</td>\n",
       "      <td>0.045184</td>\n",
       "      <td>0.266285</td>\n",
       "      <td>1</td>\n",
       "    </tr>\n",
       "  </tbody>\n",
       "</table>\n",
       "<p>3 rows × 22 columns</p>\n",
       "</div>"
      ],
      "text/plain": [
       "       uid   topic_0   topic_1   topic_2   topic_3   topic_4   topic_5  \\\n",
       "0  u105138  0.181264  0.134439  0.010102  0.442625  0.081164  0.127079   \n",
       "1  u108690  0.272069  0.036135  0.000000  0.172792  0.046316  0.000000   \n",
       "2  u108339  0.287615  0.086593  0.010627  0.256235  0.033503  0.000000   \n",
       "\n",
       "    topic_6   topic_7   topic_8  ...  topic_11  topic_12  topic_13  topic_14  \\\n",
       "0  0.049729  0.151493  0.151510  ...  0.083252  0.142651  0.187109  0.198444   \n",
       "1  0.018699  0.190142  0.031342  ...  0.000000  0.109922  0.179873  0.163976   \n",
       "2  0.057842  0.218546  0.118557  ...  0.000000  0.107626  0.059818  0.182798   \n",
       "\n",
       "   topic_15  topic_16  topic_17  topic_18  topic_19  churn  \n",
       "0  0.058853  0.023309  0.304297  0.000000  0.514025      0  \n",
       "1  0.000000  0.085459  0.137487  0.000000  0.309089      1  \n",
       "2  0.036359  0.026723  0.098255  0.045184  0.266285      1  \n",
       "\n",
       "[3 rows x 22 columns]"
      ]
     },
     "execution_count": 55,
     "metadata": {},
     "output_type": "execute_result"
    }
   ],
   "source": [
    "X = pd.merge(user_embeddings, target, 'left')\n",
    "X.head(3)"
   ]
  },
  {
   "cell_type": "code",
   "execution_count": 56,
   "metadata": {
    "id": "Web_S1vy1Yhs"
   },
   "outputs": [],
   "source": [
    "# разделим данные на train/test\n",
    "X_train, X_test, y_train, y_test = train_test_split(X[[f'topic_{i}' for i in range(N_topic)]], \n",
    "                                                    X['churn'], random_state=0)"
   ]
  },
  {
   "cell_type": "code",
   "execution_count": 57,
   "metadata": {
    "colab": {
     "base_uri": "https://localhost:8080/"
    },
    "id": "knZw-wh81Yht",
    "outputId": "b660bf30-0931-42b5-ef2a-c664a5aec0a1"
   },
   "outputs": [
    {
     "data": {
      "text/plain": [
       "LogisticRegression()"
      ]
     },
     "execution_count": 57,
     "metadata": {},
     "output_type": "execute_result"
    }
   ],
   "source": [
    "model = LogisticRegression()\n",
    "# обучим \n",
    "model.fit(X_train, y_train)"
   ]
  },
  {
   "cell_type": "code",
   "execution_count": 58,
   "metadata": {
    "colab": {
     "base_uri": "https://localhost:8080/"
    },
    "id": "JmzLR9Ih1Yhu",
    "outputId": "87a28ff2-b229-41ad-80d0-03e6cff8e396"
   },
   "outputs": [
    {
     "data": {
      "text/plain": [
       "array([9.06386701e-02, 3.04317674e-03, 6.99678369e-01, 5.04451188e-02,\n",
       "       4.14503716e-01, 2.14769546e-03, 3.08798708e-02, 6.26558188e-04,\n",
       "       1.43336678e-02, 1.41907131e-01])"
      ]
     },
     "execution_count": 58,
     "metadata": {},
     "output_type": "execute_result"
    }
   ],
   "source": [
    "# наши прогнозы для тестовой выборки\n",
    "preds = model.predict_proba(X_test)[:, 1]\n",
    "preds[:10]"
   ]
  },
  {
   "cell_type": "code",
   "execution_count": 59,
   "metadata": {
    "colab": {
     "base_uri": "https://localhost:8080/"
    },
    "id": "wdNzmTwk1Yhv",
    "outputId": "dae8ac7d-e6c8-4ef0-f6e2-1d02db514d17"
   },
   "outputs": [
    {
     "name": "stdout",
     "output_type": "stream",
     "text": [
      "Best Threshold=0.353421236157998, F-Score=0.770, Precision=0.756, Recall=0.784\n"
     ]
    }
   ],
   "source": [
    "precision, recall, thresholds = precision_recall_curve(y_test, preds)\n",
    "fscore = (2 * precision * recall) / (precision + recall)\n",
    "# locate the index of the largest f score\n",
    "ix = np.argmax(fscore)\n",
    "print(f'Best Threshold={thresholds[ix]}, F-Score={fscore[ix]:.3f}, Precision={precision[ix]:.3f}, Recall={recall[ix]:.3f}')                                                                        "
   ]
  },
  {
   "cell_type": "code",
   "execution_count": 60,
   "metadata": {
    "colab": {
     "base_uri": "https://localhost:8080/"
    },
    "id": "7HZs4GoI1Yhw",
    "outputId": "29046735-b7ea-4594-e34f-0bf4d2d48284"
   },
   "outputs": [
    {
     "data": {
      "text/plain": [
       "0.9663538577824291"
      ]
     },
     "execution_count": 60,
     "metadata": {},
     "output_type": "execute_result"
    }
   ],
   "source": [
    "roc_auc = roc_auc_score(y_test, preds)\n",
    "roc_auc"
   ]
  },
  {
   "cell_type": "code",
   "execution_count": 61,
   "metadata": {
    "colab": {
     "base_uri": "https://localhost:8080/",
     "height": 143
    },
    "id": "DzGzV2Kj1Yhx",
    "outputId": "ce6d0e5a-66c5-4fd7-d8bf-a4d66eca4269"
   },
   "outputs": [
    {
     "name": "stderr",
     "output_type": "stream",
     "text": [
      "/tmp/ipykernel_5214/1288159249.py:1: FutureWarning: The frame.append method is deprecated and will be removed from pandas in a future version. Use pandas.concat instead.\n",
      "  metrics_df = metrics_df.append({\n"
     ]
    },
    {
     "data": {
      "text/html": [
       "<div>\n",
       "<style scoped>\n",
       "    .dataframe tbody tr th:only-of-type {\n",
       "        vertical-align: middle;\n",
       "    }\n",
       "\n",
       "    .dataframe tbody tr th {\n",
       "        vertical-align: top;\n",
       "    }\n",
       "\n",
       "    .dataframe thead th {\n",
       "        text-align: right;\n",
       "    }\n",
       "</style>\n",
       "<table border=\"1\" class=\"dataframe\">\n",
       "  <thead>\n",
       "    <tr style=\"text-align: right;\">\n",
       "      <th></th>\n",
       "      <th>model</th>\n",
       "      <th>thresh</th>\n",
       "      <th>F-Score</th>\n",
       "      <th>Precision</th>\n",
       "      <th>Recall</th>\n",
       "      <th>ROC AUC</th>\n",
       "    </tr>\n",
       "  </thead>\n",
       "  <tbody>\n",
       "    <tr>\n",
       "      <th>0</th>\n",
       "      <td>mean</td>\n",
       "      <td>0.295934</td>\n",
       "      <td>0.710526</td>\n",
       "      <td>0.767773</td>\n",
       "      <td>0.661224</td>\n",
       "      <td>0.954735</td>\n",
       "    </tr>\n",
       "    <tr>\n",
       "      <th>1</th>\n",
       "      <td>median</td>\n",
       "      <td>0.248259</td>\n",
       "      <td>0.785579</td>\n",
       "      <td>0.734043</td>\n",
       "      <td>0.844898</td>\n",
       "      <td>0.97534</td>\n",
       "    </tr>\n",
       "    <tr>\n",
       "      <th>2</th>\n",
       "      <td>amax</td>\n",
       "      <td>0.353421</td>\n",
       "      <td>0.769539</td>\n",
       "      <td>0.755906</td>\n",
       "      <td>0.783673</td>\n",
       "      <td>0.966354</td>\n",
       "    </tr>\n",
       "  </tbody>\n",
       "</table>\n",
       "</div>"
      ],
      "text/plain": [
       "    model    thresh   F-Score Precision    Recall   ROC AUC\n",
       "0    mean  0.295934  0.710526  0.767773  0.661224  0.954735\n",
       "1  median  0.248259  0.785579  0.734043  0.844898   0.97534\n",
       "2    amax  0.353421  0.769539  0.755906  0.783673  0.966354"
      ]
     },
     "execution_count": 61,
     "metadata": {},
     "output_type": "execute_result"
    }
   ],
   "source": [
    "metrics_df = metrics_df.append({\n",
    "    'model': FUNC.__name__,\n",
    "    'thresh': thresholds[ix],\n",
    "    'F-Score': fscore[ix],\n",
    "    'Precision': precision[ix],\n",
    "    'Recall': recall[ix],\n",
    "    'ROC AUC': roc_auc\n",
    "}, ignore_index=True)\n",
    "\n",
    "metrics_df"
   ]
  },
  {
   "cell_type": "markdown",
   "metadata": {
    "id": "0eZuAlSZvSx0"
   },
   "source": [
    "4. *Воспользовавшись полученными знаниями из п.1, повторить пункт 2, но уже взвешивая новости по tfidf (взяв список новостей пользователя)\n",
    "\t- подсказка 1: нужно получить веса-коэффициенты для каждого документа. Не все документы одинаково информативны и несут какой-то положительный сигнал\n",
    "\t- подсказка 2: нужен именно idf, как вес."
   ]
  },
  {
   "cell_type": "code",
   "execution_count": 62,
   "metadata": {
    "id": "ZesFai-itKQk"
   },
   "outputs": [],
   "source": [
    "from sklearn.feature_extraction.text import TfidfVectorizer"
   ]
  },
  {
   "cell_type": "code",
   "execution_count": 63,
   "metadata": {
    "colab": {
     "base_uri": "https://localhost:8080/",
     "height": 36
    },
    "id": "1oAcaUVDtKQt",
    "outputId": "c1862635-cb29-4808-b03b-ddb0a60dabb1"
   },
   "outputs": [
    {
     "data": {
      "text/plain": [
       "'293672 293328 293001 293622 293126 1852'"
      ]
     },
     "execution_count": 63,
     "metadata": {},
     "output_type": "execute_result"
    }
   ],
   "source": [
    "users['articles_str'] = users['articles'].apply(lambda x: x.replace('[','').replace(']', '').replace(',', ''))\n",
    "\n",
    "users['articles_str'].iloc[0]"
   ]
  },
  {
   "cell_type": "code",
   "execution_count": 64,
   "metadata": {
    "colab": {
     "base_uri": "https://localhost:8080/"
    },
    "id": "KbBp1Jo7tKQw",
    "outputId": "0820eb73-d8c9-4db3-dce3-52fc930d7c16"
   },
   "outputs": [
    {
     "data": {
      "text/plain": [
       "TfidfVectorizer()"
      ]
     },
     "execution_count": 64,
     "metadata": {},
     "output_type": "execute_result"
    }
   ],
   "source": [
    "tfidf = TfidfVectorizer()\n",
    "tfidf.fit(users['articles_str'])"
   ]
  },
  {
   "cell_type": "code",
   "execution_count": 65,
   "metadata": {
    "colab": {
     "base_uri": "https://localhost:8080/",
     "height": 424
    },
    "id": "7NA5reLLtKQz",
    "outputId": "ca461cbe-cfe6-426c-c461-dce32c2604e4"
   },
   "outputs": [
    {
     "data": {
      "text/html": [
       "<div>\n",
       "<style scoped>\n",
       "    .dataframe tbody tr th:only-of-type {\n",
       "        vertical-align: middle;\n",
       "    }\n",
       "\n",
       "    .dataframe tbody tr th {\n",
       "        vertical-align: top;\n",
       "    }\n",
       "\n",
       "    .dataframe thead th {\n",
       "        text-align: right;\n",
       "    }\n",
       "</style>\n",
       "<table border=\"1\" class=\"dataframe\">\n",
       "  <thead>\n",
       "    <tr style=\"text-align: right;\">\n",
       "      <th></th>\n",
       "      <th>article_id</th>\n",
       "      <th>idf</th>\n",
       "    </tr>\n",
       "  </thead>\n",
       "  <tbody>\n",
       "    <tr>\n",
       "      <th>0</th>\n",
       "      <td>10</td>\n",
       "      <td>8.888710</td>\n",
       "    </tr>\n",
       "    <tr>\n",
       "      <th>1</th>\n",
       "      <td>100</td>\n",
       "      <td>7.907880</td>\n",
       "    </tr>\n",
       "    <tr>\n",
       "      <th>2</th>\n",
       "      <td>1000</td>\n",
       "      <td>8.041412</td>\n",
       "    </tr>\n",
       "    <tr>\n",
       "      <th>3</th>\n",
       "      <td>1001</td>\n",
       "      <td>8.888710</td>\n",
       "    </tr>\n",
       "    <tr>\n",
       "      <th>4</th>\n",
       "      <td>1002</td>\n",
       "      <td>8.888710</td>\n",
       "    </tr>\n",
       "    <tr>\n",
       "      <th>...</th>\n",
       "      <td>...</td>\n",
       "      <td>...</td>\n",
       "    </tr>\n",
       "    <tr>\n",
       "      <th>14776</th>\n",
       "      <td>995</td>\n",
       "      <td>8.377884</td>\n",
       "    </tr>\n",
       "    <tr>\n",
       "      <th>14777</th>\n",
       "      <td>996</td>\n",
       "      <td>8.195562</td>\n",
       "    </tr>\n",
       "    <tr>\n",
       "      <th>14778</th>\n",
       "      <td>997</td>\n",
       "      <td>8.601027</td>\n",
       "    </tr>\n",
       "    <tr>\n",
       "      <th>14779</th>\n",
       "      <td>998</td>\n",
       "      <td>9.294175</td>\n",
       "    </tr>\n",
       "    <tr>\n",
       "      <th>14780</th>\n",
       "      <td>999</td>\n",
       "      <td>8.601027</td>\n",
       "    </tr>\n",
       "  </tbody>\n",
       "</table>\n",
       "<p>14781 rows × 2 columns</p>\n",
       "</div>"
      ],
      "text/plain": [
       "      article_id       idf\n",
       "0             10  8.888710\n",
       "1            100  7.907880\n",
       "2           1000  8.041412\n",
       "3           1001  8.888710\n",
       "4           1002  8.888710\n",
       "...          ...       ...\n",
       "14776        995  8.377884\n",
       "14777        996  8.195562\n",
       "14778        997  8.601027\n",
       "14779        998  9.294175\n",
       "14780        999  8.601027\n",
       "\n",
       "[14781 rows x 2 columns]"
      ]
     },
     "execution_count": 65,
     "metadata": {},
     "output_type": "execute_result"
    }
   ],
   "source": [
    "idf = pd.DataFrame({'article_id': tfidf.get_feature_names_out(),\n",
    "                    'idf': tfidf.idf_})\n",
    "\n",
    "idf"
   ]
  },
  {
   "cell_type": "code",
   "execution_count": 66,
   "metadata": {
    "id": "FQXSqzXb18y0"
   },
   "outputs": [],
   "source": [
    "def get_user_embedding_idf(user_articles_list, doc_dict):\n",
    "    user_articles_list = eval(user_articles_list)\n",
    "    \n",
    "    user_vector = np.zeros((len(user_articles_list), N_topic))\n",
    "    for i, doc_id in enumerate(user_articles_list):\n",
    "        try:\n",
    "            weight = idf[idf['article_id'] == str(doc_id)]['idf'].values[0]\n",
    "        except Exception as e:\n",
    "            weight = 0\n",
    "        user_vector[i] = doc_dict[doc_id] * weight\n",
    "\n",
    "    user_vector = np.median(user_vector, axis=0)\n",
    "    return user_vector"
   ]
  },
  {
   "cell_type": "code",
   "execution_count": 67,
   "metadata": {
    "colab": {
     "base_uri": "https://localhost:8080/",
     "height": 254
    },
    "id": "ImLb-ngp186u",
    "outputId": "cbd26aa5-a8a7-4875-ff13-f8124ff63caf"
   },
   "outputs": [
    {
     "name": "stderr",
     "output_type": "stream",
     "text": [
      "100%|███████████████████████████████████████| 8000/8000 [01:49<00:00, 73.38it/s]\n"
     ]
    },
    {
     "data": {
      "text/html": [
       "<div>\n",
       "<style scoped>\n",
       "    .dataframe tbody tr th:only-of-type {\n",
       "        vertical-align: middle;\n",
       "    }\n",
       "\n",
       "    .dataframe tbody tr th {\n",
       "        vertical-align: top;\n",
       "    }\n",
       "\n",
       "    .dataframe thead th {\n",
       "        text-align: right;\n",
       "    }\n",
       "</style>\n",
       "<table border=\"1\" class=\"dataframe\">\n",
       "  <thead>\n",
       "    <tr style=\"text-align: right;\">\n",
       "      <th></th>\n",
       "      <th>uid</th>\n",
       "      <th>topic_0</th>\n",
       "      <th>topic_1</th>\n",
       "      <th>topic_2</th>\n",
       "      <th>topic_3</th>\n",
       "      <th>topic_4</th>\n",
       "      <th>topic_5</th>\n",
       "      <th>topic_6</th>\n",
       "      <th>topic_7</th>\n",
       "      <th>topic_8</th>\n",
       "      <th>...</th>\n",
       "      <th>topic_10</th>\n",
       "      <th>topic_11</th>\n",
       "      <th>topic_12</th>\n",
       "      <th>topic_13</th>\n",
       "      <th>topic_14</th>\n",
       "      <th>topic_15</th>\n",
       "      <th>topic_16</th>\n",
       "      <th>topic_17</th>\n",
       "      <th>topic_18</th>\n",
       "      <th>topic_19</th>\n",
       "    </tr>\n",
       "  </thead>\n",
       "  <tbody>\n",
       "    <tr>\n",
       "      <th>0</th>\n",
       "      <td>u105138</td>\n",
       "      <td>0.347756</td>\n",
       "      <td>0.755642</td>\n",
       "      <td>0.0</td>\n",
       "      <td>1.179222</td>\n",
       "      <td>0.052646</td>\n",
       "      <td>0.0</td>\n",
       "      <td>0.000000</td>\n",
       "      <td>0.000000</td>\n",
       "      <td>0.000000</td>\n",
       "      <td>...</td>\n",
       "      <td>0.121736</td>\n",
       "      <td>0.0</td>\n",
       "      <td>0.109055</td>\n",
       "      <td>0.201722</td>\n",
       "      <td>0.434010</td>\n",
       "      <td>0.0</td>\n",
       "      <td>0.000000</td>\n",
       "      <td>0.000000</td>\n",
       "      <td>0.000000</td>\n",
       "      <td>0.338732</td>\n",
       "    </tr>\n",
       "    <tr>\n",
       "      <th>1</th>\n",
       "      <td>u108690</td>\n",
       "      <td>0.563119</td>\n",
       "      <td>0.000000</td>\n",
       "      <td>0.0</td>\n",
       "      <td>1.081588</td>\n",
       "      <td>0.000000</td>\n",
       "      <td>0.0</td>\n",
       "      <td>0.000000</td>\n",
       "      <td>0.147436</td>\n",
       "      <td>0.045845</td>\n",
       "      <td>...</td>\n",
       "      <td>0.681372</td>\n",
       "      <td>0.0</td>\n",
       "      <td>0.367384</td>\n",
       "      <td>0.346823</td>\n",
       "      <td>0.914467</td>\n",
       "      <td>0.0</td>\n",
       "      <td>0.000000</td>\n",
       "      <td>0.000000</td>\n",
       "      <td>0.000000</td>\n",
       "      <td>2.083066</td>\n",
       "    </tr>\n",
       "    <tr>\n",
       "      <th>2</th>\n",
       "      <td>u108339</td>\n",
       "      <td>1.540269</td>\n",
       "      <td>0.000000</td>\n",
       "      <td>0.0</td>\n",
       "      <td>0.878553</td>\n",
       "      <td>0.000000</td>\n",
       "      <td>0.0</td>\n",
       "      <td>0.210848</td>\n",
       "      <td>0.416296</td>\n",
       "      <td>0.047717</td>\n",
       "      <td>...</td>\n",
       "      <td>0.932896</td>\n",
       "      <td>0.0</td>\n",
       "      <td>0.085095</td>\n",
       "      <td>0.269570</td>\n",
       "      <td>0.471154</td>\n",
       "      <td>0.0</td>\n",
       "      <td>0.067706</td>\n",
       "      <td>0.102692</td>\n",
       "      <td>0.112815</td>\n",
       "      <td>1.319599</td>\n",
       "    </tr>\n",
       "  </tbody>\n",
       "</table>\n",
       "<p>3 rows × 21 columns</p>\n",
       "</div>"
      ],
      "text/plain": [
       "       uid   topic_0   topic_1  topic_2   topic_3   topic_4  topic_5  \\\n",
       "0  u105138  0.347756  0.755642      0.0  1.179222  0.052646      0.0   \n",
       "1  u108690  0.563119  0.000000      0.0  1.081588  0.000000      0.0   \n",
       "2  u108339  1.540269  0.000000      0.0  0.878553  0.000000      0.0   \n",
       "\n",
       "    topic_6   topic_7   topic_8  ...  topic_10  topic_11  topic_12  topic_13  \\\n",
       "0  0.000000  0.000000  0.000000  ...  0.121736       0.0  0.109055  0.201722   \n",
       "1  0.000000  0.147436  0.045845  ...  0.681372       0.0  0.367384  0.346823   \n",
       "2  0.210848  0.416296  0.047717  ...  0.932896       0.0  0.085095  0.269570   \n",
       "\n",
       "   topic_14  topic_15  topic_16  topic_17  topic_18  topic_19  \n",
       "0  0.434010       0.0  0.000000  0.000000  0.000000  0.338732  \n",
       "1  0.914467       0.0  0.000000  0.000000  0.000000  2.083066  \n",
       "2  0.471154       0.0  0.067706  0.102692  0.112815  1.319599  \n",
       "\n",
       "[3 rows x 21 columns]"
      ]
     },
     "execution_count": 67,
     "metadata": {},
     "output_type": "execute_result"
    }
   ],
   "source": [
    "from tqdm import tqdm\n",
    "tqdm.pandas()\n",
    "\n",
    "user_embeddings = pd.DataFrame([i for i in users['articles'].progress_apply(lambda x: get_user_embedding_idf(x, doc_dict))])\n",
    "user_embeddings.columns = [f'topic_{i}' for i in range(N_topic)]\n",
    "user_embeddings['uid'] = users['uid'].values\n",
    "user_embeddings = user_embeddings[['uid']+[f'topic_{i}' for i in range(N_topic)]]\n",
    "user_embeddings.head(3)"
   ]
  },
  {
   "cell_type": "code",
   "execution_count": 68,
   "metadata": {
    "colab": {
     "base_uri": "https://localhost:8080/",
     "height": 237
    },
    "id": "drCNdiC5186y",
    "outputId": "0bff4047-546c-4201-e7bb-f68105d77c1b"
   },
   "outputs": [
    {
     "data": {
      "text/html": [
       "<div>\n",
       "<style scoped>\n",
       "    .dataframe tbody tr th:only-of-type {\n",
       "        vertical-align: middle;\n",
       "    }\n",
       "\n",
       "    .dataframe tbody tr th {\n",
       "        vertical-align: top;\n",
       "    }\n",
       "\n",
       "    .dataframe thead th {\n",
       "        text-align: right;\n",
       "    }\n",
       "</style>\n",
       "<table border=\"1\" class=\"dataframe\">\n",
       "  <thead>\n",
       "    <tr style=\"text-align: right;\">\n",
       "      <th></th>\n",
       "      <th>uid</th>\n",
       "      <th>topic_0</th>\n",
       "      <th>topic_1</th>\n",
       "      <th>topic_2</th>\n",
       "      <th>topic_3</th>\n",
       "      <th>topic_4</th>\n",
       "      <th>topic_5</th>\n",
       "      <th>topic_6</th>\n",
       "      <th>topic_7</th>\n",
       "      <th>topic_8</th>\n",
       "      <th>...</th>\n",
       "      <th>topic_11</th>\n",
       "      <th>topic_12</th>\n",
       "      <th>topic_13</th>\n",
       "      <th>topic_14</th>\n",
       "      <th>topic_15</th>\n",
       "      <th>topic_16</th>\n",
       "      <th>topic_17</th>\n",
       "      <th>topic_18</th>\n",
       "      <th>topic_19</th>\n",
       "      <th>churn</th>\n",
       "    </tr>\n",
       "  </thead>\n",
       "  <tbody>\n",
       "    <tr>\n",
       "      <th>0</th>\n",
       "      <td>u105138</td>\n",
       "      <td>0.347756</td>\n",
       "      <td>0.755642</td>\n",
       "      <td>0.0</td>\n",
       "      <td>1.179222</td>\n",
       "      <td>0.052646</td>\n",
       "      <td>0.0</td>\n",
       "      <td>0.000000</td>\n",
       "      <td>0.000000</td>\n",
       "      <td>0.000000</td>\n",
       "      <td>...</td>\n",
       "      <td>0.0</td>\n",
       "      <td>0.109055</td>\n",
       "      <td>0.201722</td>\n",
       "      <td>0.434010</td>\n",
       "      <td>0.0</td>\n",
       "      <td>0.000000</td>\n",
       "      <td>0.000000</td>\n",
       "      <td>0.000000</td>\n",
       "      <td>0.338732</td>\n",
       "      <td>0</td>\n",
       "    </tr>\n",
       "    <tr>\n",
       "      <th>1</th>\n",
       "      <td>u108690</td>\n",
       "      <td>0.563119</td>\n",
       "      <td>0.000000</td>\n",
       "      <td>0.0</td>\n",
       "      <td>1.081588</td>\n",
       "      <td>0.000000</td>\n",
       "      <td>0.0</td>\n",
       "      <td>0.000000</td>\n",
       "      <td>0.147436</td>\n",
       "      <td>0.045845</td>\n",
       "      <td>...</td>\n",
       "      <td>0.0</td>\n",
       "      <td>0.367384</td>\n",
       "      <td>0.346823</td>\n",
       "      <td>0.914467</td>\n",
       "      <td>0.0</td>\n",
       "      <td>0.000000</td>\n",
       "      <td>0.000000</td>\n",
       "      <td>0.000000</td>\n",
       "      <td>2.083066</td>\n",
       "      <td>1</td>\n",
       "    </tr>\n",
       "    <tr>\n",
       "      <th>2</th>\n",
       "      <td>u108339</td>\n",
       "      <td>1.540269</td>\n",
       "      <td>0.000000</td>\n",
       "      <td>0.0</td>\n",
       "      <td>0.878553</td>\n",
       "      <td>0.000000</td>\n",
       "      <td>0.0</td>\n",
       "      <td>0.210848</td>\n",
       "      <td>0.416296</td>\n",
       "      <td>0.047717</td>\n",
       "      <td>...</td>\n",
       "      <td>0.0</td>\n",
       "      <td>0.085095</td>\n",
       "      <td>0.269570</td>\n",
       "      <td>0.471154</td>\n",
       "      <td>0.0</td>\n",
       "      <td>0.067706</td>\n",
       "      <td>0.102692</td>\n",
       "      <td>0.112815</td>\n",
       "      <td>1.319599</td>\n",
       "      <td>1</td>\n",
       "    </tr>\n",
       "  </tbody>\n",
       "</table>\n",
       "<p>3 rows × 22 columns</p>\n",
       "</div>"
      ],
      "text/plain": [
       "       uid   topic_0   topic_1  topic_2   topic_3   topic_4  topic_5  \\\n",
       "0  u105138  0.347756  0.755642      0.0  1.179222  0.052646      0.0   \n",
       "1  u108690  0.563119  0.000000      0.0  1.081588  0.000000      0.0   \n",
       "2  u108339  1.540269  0.000000      0.0  0.878553  0.000000      0.0   \n",
       "\n",
       "    topic_6   topic_7   topic_8  ...  topic_11  topic_12  topic_13  topic_14  \\\n",
       "0  0.000000  0.000000  0.000000  ...       0.0  0.109055  0.201722  0.434010   \n",
       "1  0.000000  0.147436  0.045845  ...       0.0  0.367384  0.346823  0.914467   \n",
       "2  0.210848  0.416296  0.047717  ...       0.0  0.085095  0.269570  0.471154   \n",
       "\n",
       "   topic_15  topic_16  topic_17  topic_18  topic_19  churn  \n",
       "0       0.0  0.000000  0.000000  0.000000  0.338732      0  \n",
       "1       0.0  0.000000  0.000000  0.000000  2.083066      1  \n",
       "2       0.0  0.067706  0.102692  0.112815  1.319599      1  \n",
       "\n",
       "[3 rows x 22 columns]"
      ]
     },
     "execution_count": 68,
     "metadata": {},
     "output_type": "execute_result"
    }
   ],
   "source": [
    "X = pd.merge(user_embeddings, target, 'left')\n",
    "X.head(3)"
   ]
  },
  {
   "cell_type": "code",
   "execution_count": 69,
   "metadata": {
    "id": "hBliMXdo1860"
   },
   "outputs": [],
   "source": [
    "# разделим данные на train/test\n",
    "X_train, X_test, y_train, y_test = train_test_split(X[[f'topic_{i}' for i in range(N_topic)]], \n",
    "                                                    X['churn'], random_state=0)"
   ]
  },
  {
   "cell_type": "code",
   "execution_count": 70,
   "metadata": {
    "colab": {
     "base_uri": "https://localhost:8080/"
    },
    "id": "CeTmdW-X1862",
    "outputId": "9a1897a5-2341-487d-9c05-73e326afc69b"
   },
   "outputs": [
    {
     "data": {
      "text/plain": [
       "LogisticRegression()"
      ]
     },
     "execution_count": 70,
     "metadata": {},
     "output_type": "execute_result"
    }
   ],
   "source": [
    "model = LogisticRegression()\n",
    "# обучим \n",
    "model.fit(X_train, y_train)"
   ]
  },
  {
   "cell_type": "code",
   "execution_count": 71,
   "metadata": {
    "colab": {
     "base_uri": "https://localhost:8080/"
    },
    "id": "kmlsOWmX1863",
    "outputId": "cfbd0de7-fc46-4ba0-c119-6ff1a4b0c7ab"
   },
   "outputs": [
    {
     "data": {
      "text/plain": [
       "array([1.10033456e-01, 2.07421320e-03, 9.27720972e-01, 1.11982477e-02,\n",
       "       1.97762268e-01, 6.76576963e-04, 4.20181934e-04, 1.33820619e-07,\n",
       "       1.96085763e-05, 2.17113710e-02])"
      ]
     },
     "execution_count": 71,
     "metadata": {},
     "output_type": "execute_result"
    }
   ],
   "source": [
    "# наши прогнозы для тестовой выборки\n",
    "preds = model.predict_proba(X_test)[:, 1]\n",
    "preds[:10]"
   ]
  },
  {
   "cell_type": "code",
   "execution_count": 72,
   "metadata": {
    "colab": {
     "base_uri": "https://localhost:8080/"
    },
    "id": "arK2w7Hz1866",
    "outputId": "e2bb442f-8f84-4be1-a07f-b84807ac9457"
   },
   "outputs": [
    {
     "name": "stdout",
     "output_type": "stream",
     "text": [
      "Best Threshold=0.4668298463998236, F-Score=0.874, Precision=0.897, Recall=0.853\n"
     ]
    }
   ],
   "source": [
    "precision, recall, thresholds = precision_recall_curve(y_test, preds)\n",
    "fscore = (2 * precision * recall) / (precision + recall)\n",
    "# locate the index of the largest f score\n",
    "ix = np.argmax(fscore)\n",
    "print(f'Best Threshold={thresholds[ix]}, F-Score={fscore[ix]:.3f}, Precision={precision[ix]:.3f}, Recall={recall[ix]:.3f}')                                                                        "
   ]
  },
  {
   "cell_type": "code",
   "execution_count": 73,
   "metadata": {
    "colab": {
     "base_uri": "https://localhost:8080/"
    },
    "id": "r43iKg271868",
    "outputId": "47498a98-38c1-44ed-950c-209c3c10c1f0"
   },
   "outputs": [
    {
     "data": {
      "text/plain": [
       "0.9886644572358858"
      ]
     },
     "execution_count": 73,
     "metadata": {},
     "output_type": "execute_result"
    }
   ],
   "source": [
    "roc_auc = roc_auc_score(y_test, preds)\n",
    "roc_auc"
   ]
  },
  {
   "cell_type": "code",
   "execution_count": 74,
   "metadata": {
    "id": "ckf7WanU186_"
   },
   "outputs": [
    {
     "name": "stderr",
     "output_type": "stream",
     "text": [
      "/tmp/ipykernel_5214/1015548053.py:1: FutureWarning: The frame.append method is deprecated and will be removed from pandas in a future version. Use pandas.concat instead.\n",
      "  metrics_df = metrics_df.append({\n"
     ]
    }
   ],
   "source": [
    "metrics_df = metrics_df.append({\n",
    "    'model': 'idf_median',\n",
    "    'thresh': thresholds[ix],\n",
    "    'F-Score': fscore[ix],\n",
    "    'Precision': precision[ix],\n",
    "    'Recall': recall[ix],\n",
    "    'ROC AUC': roc_auc\n",
    "}, ignore_index=True)"
   ]
  },
  {
   "cell_type": "markdown",
   "metadata": {
    "id": "l6Z3CZ0Y5k5O"
   },
   "source": [
    "\n",
    "5. Сформировать на выходе единую таблицу, сравнивающую качество 2/3 разных метода получения эмбедингов пользователей: median, max, idf_mean по метрикам roc_auc, precision, recall, f_score\n"
   ]
  },
  {
   "cell_type": "code",
   "execution_count": 75,
   "metadata": {
    "colab": {
     "base_uri": "https://localhost:8080/",
     "height": 175
    },
    "id": "froar-DB8wDQ",
    "outputId": "0a5b3043-6472-4bfa-f352-f5df9cecaf1f"
   },
   "outputs": [
    {
     "data": {
      "text/html": [
       "<div>\n",
       "<style scoped>\n",
       "    .dataframe tbody tr th:only-of-type {\n",
       "        vertical-align: middle;\n",
       "    }\n",
       "\n",
       "    .dataframe tbody tr th {\n",
       "        vertical-align: top;\n",
       "    }\n",
       "\n",
       "    .dataframe thead th {\n",
       "        text-align: right;\n",
       "    }\n",
       "</style>\n",
       "<table border=\"1\" class=\"dataframe\">\n",
       "  <thead>\n",
       "    <tr style=\"text-align: right;\">\n",
       "      <th></th>\n",
       "      <th>model</th>\n",
       "      <th>thresh</th>\n",
       "      <th>F-Score</th>\n",
       "      <th>Precision</th>\n",
       "      <th>Recall</th>\n",
       "      <th>ROC AUC</th>\n",
       "    </tr>\n",
       "  </thead>\n",
       "  <tbody>\n",
       "    <tr>\n",
       "      <th>0</th>\n",
       "      <td>mean</td>\n",
       "      <td>0.295934</td>\n",
       "      <td>0.710526</td>\n",
       "      <td>0.767773</td>\n",
       "      <td>0.661224</td>\n",
       "      <td>0.954735</td>\n",
       "    </tr>\n",
       "    <tr>\n",
       "      <th>1</th>\n",
       "      <td>median</td>\n",
       "      <td>0.248259</td>\n",
       "      <td>0.785579</td>\n",
       "      <td>0.734043</td>\n",
       "      <td>0.844898</td>\n",
       "      <td>0.97534</td>\n",
       "    </tr>\n",
       "    <tr>\n",
       "      <th>2</th>\n",
       "      <td>amax</td>\n",
       "      <td>0.353421</td>\n",
       "      <td>0.769539</td>\n",
       "      <td>0.755906</td>\n",
       "      <td>0.783673</td>\n",
       "      <td>0.966354</td>\n",
       "    </tr>\n",
       "    <tr>\n",
       "      <th>3</th>\n",
       "      <td>idf_median</td>\n",
       "      <td>0.46683</td>\n",
       "      <td>0.874477</td>\n",
       "      <td>0.896996</td>\n",
       "      <td>0.853061</td>\n",
       "      <td>0.988664</td>\n",
       "    </tr>\n",
       "  </tbody>\n",
       "</table>\n",
       "</div>"
      ],
      "text/plain": [
       "        model    thresh   F-Score Precision    Recall   ROC AUC\n",
       "0        mean  0.295934  0.710526  0.767773  0.661224  0.954735\n",
       "1      median  0.248259  0.785579  0.734043  0.844898   0.97534\n",
       "2        amax  0.353421  0.769539  0.755906  0.783673  0.966354\n",
       "3  idf_median   0.46683  0.874477  0.896996  0.853061  0.988664"
      ]
     },
     "execution_count": 75,
     "metadata": {},
     "output_type": "execute_result"
    }
   ],
   "source": [
    "metrics_df"
   ]
  },
  {
   "cell_type": "markdown",
   "metadata": {
    "id": "UlmshN94tKQ2"
   },
   "source": [
    "6. Сделать самостоятельные выводы и предположения о том, почему тот или ной способ оказался эффективнее остальных"
   ]
  },
  {
   "cell_type": "markdown",
   "metadata": {},
   "source": [
    "Лучшую метрику roc-auc показала модель, где используется алгоритм взвешивания весов TfidfVectorizer. Видимо взвешивание весов слов этим алгоритмом + использование медианы (которая показала лучший результат по сравнению со средним и максимальным) позволяет добиться максимальной метрики. "
   ]
  }
 ],
 "metadata": {
  "colab": {
   "provenance": [],
   "toc_visible": true
  },
  "kernelspec": {
   "display_name": "Python 3 (ipykernel)",
   "language": "python",
   "name": "python3"
  },
  "language_info": {
   "codemirror_mode": {
    "name": "ipython",
    "version": 3
   },
   "file_extension": ".py",
   "mimetype": "text/x-python",
   "name": "python",
   "nbconvert_exporter": "python",
   "pygments_lexer": "ipython3",
   "version": "3.9.12"
  }
 },
 "nbformat": 4,
 "nbformat_minor": 1
}
